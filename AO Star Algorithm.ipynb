{
 "cells": [
  {
   "cell_type": "markdown",
   "id": "3bc09f78",
   "metadata": {},
   "source": [
    "<h1>AO Star Algorithm <h1>"
   ]
  },
  {
   "cell_type": "code",
   "execution_count": 37,
   "id": "42f7dd81",
   "metadata": {},
   "outputs": [],
   "source": [
    "MAX=1000\n",
    "class Node:\n",
    "    def __init__(self,index,cost,visited=False,solved=False,and_map=False):\n",
    "        self.index=index\n",
    "        self.cost=cost\n",
    "        self.visited=visited\n",
    "        self.solved=solved\n",
    "        self.and_map=and_map\n",
    "        self.children=None\n",
    "        self.path=False\n",
    "    def __str__(self):\n",
    "        return f'{self.index}: {self.cost}'\n",
    "    def set_children(self,ch):\n",
    "        self.children=ch\n",
    "        "
   ]
  },
  {
   "cell_type": "code",
   "execution_count": 38,
   "id": "9e7b5a8d",
   "metadata": {},
   "outputs": [],
   "source": [
    "adj=[]\n",
    "EDGE=1\n",
    "n_nodes=10\n",
    "\n",
    "cost=[None,0,6,12,9,5,7,1,4,4,1]\n",
    "children={1:[2,3,4],2:[5,6],3:[7],4:[8,9],5:[10]}\n",
    "\n",
    "adj=[Node(i,cost[i]) for i in range(n_nodes+1)]\n",
    "for p,ch in children.items():\n",
    "    ch_nodes=[adj[c] for c in ch]\n",
    "    adj[p].set_children(ch_nodes)\n",
    "    \n",
    "and_edges={}\n",
    "\n",
    "and_edges[adj[1]]=(adj[2],adj[3])\n",
    "and_edges[adj[4]]=(adj[8],adj[9])\n",
    "\n",
    "for a in and_edges.values():\n",
    "    for node in a:\n",
    "        node.and_map=True\n",
    "for a in adj:\n",
    "    if not a.children:\n",
    "        a.solved=True\n",
    "    "
   ]
  },
  {
   "cell_type": "code",
   "execution_count": 39,
   "id": "b562657e",
   "metadata": {},
   "outputs": [],
   "source": [
    "def Cost(c,head):\n",
    "    if c.and_map:\n",
    "        ae=and_edges[head]\n",
    "        cc=sum(aek.cost+EDGE for aek in ae)\n",
    "        solved=all([aek.solved for aek in ae])\n",
    "        return ae,cc,solved\n",
    "    else:\n",
    "        cc=c.cost+EDGE\n",
    "        return (c,),cc,c.solved"
   ]
  },
  {
   "cell_type": "code",
   "execution_count": 40,
   "id": "f5c7b464",
   "metadata": {},
   "outputs": [],
   "source": [
    "def aoStarUtil(head):\n",
    "    ch={}\n",
    "    for c in head.children:\n",
    "        nn,cc,solved=Cost(c,head)\n",
    "        if solved:\n",
    "            head.solved=solved\n",
    "        print(head.index,'child',c.index,cc,head.solved)\n",
    "        c.path=False\n",
    "        ch[nn]=cc\n",
    "    head.cost=min(ch.values())\n",
    "    best=min(ch,key=ch.get)\n",
    "    if head.solved:\n",
    "        for b in best:\n",
    "            b.path=True\n",
    "    if not head.visited:\n",
    "        head.visited=True; head.path=True\n",
    "        return\n",
    "    print(f'Explore Head: {head.index} updated cost {head.cost} solved {head.solved}')\n",
    "    print(type(best))\n",
    "    for b in best:\n",
    "        b.path=True\n",
    "        if not b.solved:\n",
    "            aoStarUtil(b)   \n",
    "  "
   ]
  },
  {
   "cell_type": "code",
   "execution_count": 41,
   "id": "30a45285",
   "metadata": {},
   "outputs": [],
   "source": [
    "def aostar(head):\n",
    "    iter=0\n",
    "    while not head.solved and iter<MAX:\n",
    "        print(f'\\n ** Iteration {iter}')\n",
    "        aoStarUtil(head)\n",
    "        iter+=1"
   ]
  },
  {
   "cell_type": "code",
   "execution_count": 42,
   "id": "aeed6e08",
   "metadata": {},
   "outputs": [
    {
     "name": "stdout",
     "output_type": "stream",
     "text": [
      "\n",
      " ** Iteration 0\n",
      "1 child 2 20 False\n",
      "1 child 3 20 False\n",
      "1 child 4 10 False\n",
      "\n",
      " ** Iteration 1\n",
      "1 child 2 20 False\n",
      "1 child 3 20 False\n",
      "1 child 4 10 False\n",
      "Explore Head: 1 updated cost 10 solved False\n",
      "<class 'tuple'>\n",
      "4 child 8 10 True\n",
      "4 child 9 10 True\n",
      "\n",
      " ** Iteration 2\n",
      "1 child 2 20 False\n",
      "1 child 3 20 False\n",
      "1 child 4 11 True\n",
      "Explore Head: 1 updated cost 11 solved True\n",
      "<class 'tuple'>\n"
     ]
    }
   ],
   "source": [
    "aostar(adj[1])"
   ]
  },
  {
   "cell_type": "code",
   "execution_count": 43,
   "id": "cb471a70",
   "metadata": {},
   "outputs": [
    {
     "name": "stdout",
     "output_type": "stream",
     "text": [
      "Cost of Solution: 11\n",
      "Path\n",
      "1 cost: 11\n",
      "4 cost: 10\n",
      "8 cost: 4\n",
      "9 cost: 4\n"
     ]
    }
   ],
   "source": [
    "print(f'Cost of Solution: {adj[1].cost}')\n",
    "print('Path')\n",
    "for a in adj:\n",
    "    if a.path:\n",
    "        print(f'{a.index} cost: {a.cost}')"
   ]
  }
 ],
 "metadata": {
  "kernelspec": {
   "display_name": "Python 3 (ipykernel)",
   "language": "python",
   "name": "python3"
  },
  "language_info": {
   "codemirror_mode": {
    "name": "ipython",
    "version": 3
   },
   "file_extension": ".py",
   "mimetype": "text/x-python",
   "name": "python",
   "nbconvert_exporter": "python",
   "pygments_lexer": "ipython3",
   "version": "3.11.4"
  }
 },
 "nbformat": 4,
 "nbformat_minor": 5
}
