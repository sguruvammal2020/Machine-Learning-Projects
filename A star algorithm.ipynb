{
 "cells": [
  {
   "cell_type": "markdown",
   "id": "bda71bde",
   "metadata": {},
   "source": [
    "# A star algorithm"
   ]
  },
  {
   "cell_type": "code",
   "execution_count": null,
   "id": "5e3cec22",
   "metadata": {},
   "outputs": [],
   "source": [
    "class Node:\n",
    "    def __init__(self,value,coord):\n",
    "        self.value=value\n",
    "        self.coord=coord\n",
    "        self.g=0; self.h=0\n",
    "        self.parent=None\n",
    "    def __str__(self):\n",
    "        s=f'{self.coord} f={self.g+self.h:0.2f} \\\n",
    "          g={self.g:0.2f}, h={self.h:0.2f}'\n",
    "        return s\n",
    "    def move_cost(self,other):\n",
    "        return 1"
   ]
  },
  {
   "cell_type": "code",
   "execution_count": 14,
   "id": "15943a42",
   "metadata": {},
   "outputs": [],
   "source": [
    "def children(current_node,grid): \n",
    "    x,y=current_node.coord\n",
    "    links=[(x-1,y),(x,y-1),(x,y+1),(x+1,y)]\n",
    "    valid_links=[link for row in grid for link in row if link.value!=0]\n",
    "    valid_children=[link for link in valid_links if link.coord in links]\n",
    "    return valid_children    "
   ]
  },
  {
   "cell_type": "code",
   "execution_count": 15,
   "id": "12787442",
   "metadata": {},
   "outputs": [],
   "source": [
    "def manhattan(node,goal):\n",
    "    xN,yN=node.coord\n",
    "    xG,yG=goal.coord\n",
    "    h=abs(xN-xG)+abs(yN-yG)\n",
    "    return h"
   ]
  },
  {
   "cell_type": "code",
   "execution_count": 16,
   "id": "93e06eb1",
   "metadata": {},
   "outputs": [],
   "source": [
    "def aStar(start,goal,grid):\n",
    "    OPEN=list(); CLOSED=list()\n",
    "    current=start\n",
    "    OPEN.append(current)\n",
    "    i=0\n",
    "    while OPEN:\n",
    "        print('Iteration',i)\n",
    "        i+=1\n",
    "        current=min(OPEN,key=lambda o:o.g+o.h)\n",
    "        print('Current Node',current)\n",
    "        \n",
    "        if current==goal:\n",
    "            path=[]\n",
    "            while current.parent:\n",
    "                path.append(current)\n",
    "                current=current.parent\n",
    "            path.append(current)\n",
    "            return path[::-1]\n",
    "        OPEN.remove(current); CLOSED.append(current)\n",
    "        \n",
    "        for node in children(current,grid):\n",
    "            if node in CLOSED:\n",
    "                new_cost=current.g+current.move_cost(node)\n",
    "                if new_cost<=node.g:\n",
    "                    OPEN.append(node); CLOSED.remove(node)\n",
    "            elif node in OPEN:\n",
    "                new_cost=current.g+current.move_cost(node)\n",
    "                if new_cost<=node.g:\n",
    "                    node.g=new_cost\n",
    "                    node.parent=current\n",
    "            else:\n",
    "                node.g=current.g+current.move_cost(node)\n",
    "                node.h=manhattan(node,goal)\n",
    "                node.parent=current\n",
    "                OPEN.append(node)\n",
    "    return None"
   ]
  },
  {
   "cell_type": "code",
   "execution_count": 17,
   "id": "bc798316",
   "metadata": {},
   "outputs": [],
   "source": [
    "grid=[[1,1,1,1],\n",
    "     [1,1,1,1],\n",
    "     [1,1,1,1],\n",
    "     [1,1,0,0],\n",
    "     [1,1,0,1]]\n",
    "for x in range(len(grid)):\n",
    "    for y in range(len(grid[x])):\n",
    "        grid[x][y]=Node(grid[x][y],(x,y))\n",
    "start=grid[4][0]\n",
    "goal=grid[0][3]"
   ]
  },
  {
   "cell_type": "code",
   "execution_count": 18,
   "id": "b8f19dc5",
   "metadata": {},
   "outputs": [
    {
     "name": "stdout",
     "output_type": "stream",
     "text": [
      "Iteration 0\n",
      "Current Node (4, 0) f=0.00           g=0.00, h=0.00\n",
      "Iteration 1\n",
      "Current Node (3, 0) f=7.00           g=1.00, h=6.00\n",
      "Iteration 2\n",
      "Current Node (4, 1) f=7.00           g=1.00, h=6.00\n",
      "Iteration 3\n",
      "Current Node (2, 0) f=7.00           g=2.00, h=5.00\n",
      "Iteration 4\n",
      "Current Node (3, 1) f=7.00           g=2.00, h=5.00\n",
      "Iteration 5\n",
      "Current Node (1, 0) f=7.00           g=3.00, h=4.00\n",
      "Iteration 6\n",
      "Current Node (2, 1) f=7.00           g=3.00, h=4.00\n",
      "Iteration 7\n",
      "Current Node (0, 0) f=7.00           g=4.00, h=3.00\n",
      "Iteration 8\n",
      "Current Node (1, 1) f=7.00           g=4.00, h=3.00\n",
      "Iteration 9\n",
      "Current Node (2, 2) f=7.00           g=4.00, h=3.00\n",
      "Iteration 10\n",
      "Current Node (0, 1) f=7.00           g=5.00, h=2.00\n",
      "Iteration 11\n",
      "Current Node (1, 2) f=7.00           g=5.00, h=2.00\n",
      "Iteration 12\n",
      "Current Node (2, 3) f=7.00           g=5.00, h=2.00\n",
      "Iteration 13\n",
      "Current Node (0, 2) f=7.00           g=6.00, h=1.00\n",
      "Iteration 14\n",
      "Current Node (1, 3) f=7.00           g=6.00, h=1.00\n",
      "Iteration 15\n",
      "Current Node (0, 3) f=7.00           g=7.00, h=0.00\n",
      "** Path **\n",
      "(4, 0)(4, 1)(3, 1)(2, 1)(2, 2)(2, 3)(1, 3)(0, 3)"
     ]
    }
   ],
   "source": [
    "path=aStar(start,goal,grid)\n",
    "if path:\n",
    "    print(\"** Path **\")\n",
    "    for p in path:\n",
    "        print(p.coord,end=\"\")\n",
    "else:\n",
    "    print(\"No path found\")"
   ]
  },
  {
   "cell_type": "code",
   "execution_count": null,
   "id": "2f8be900",
   "metadata": {},
   "outputs": [],
   "source": []
  },
  {
   "cell_type": "code",
   "execution_count": null,
   "id": "f4d1c307",
   "metadata": {},
   "outputs": [],
   "source": []
  }
 ],
 "metadata": {
  "kernelspec": {
   "display_name": "Python 3 (ipykernel)",
   "language": "python",
   "name": "python3"
  },
  "language_info": {
   "codemirror_mode": {
    "name": "ipython",
    "version": 3
   },
   "file_extension": ".py",
   "mimetype": "text/x-python",
   "name": "python",
   "nbconvert_exporter": "python",
   "pygments_lexer": "ipython3",
   "version": "3.11.4"
  }
 },
 "nbformat": 4,
 "nbformat_minor": 5
}
