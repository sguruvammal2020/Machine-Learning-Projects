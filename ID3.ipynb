{
 "cells": [
  {
   "cell_type": "code",
   "execution_count": 2,
   "id": "ae3837d9",
   "metadata": {},
   "outputs": [
    {
     "name": "stdout",
     "output_type": "stream",
     "text": [
      "14\n"
     ]
    },
    {
     "data": {
      "text/html": [
       "<div>\n",
       "<style scoped>\n",
       "    .dataframe tbody tr th:only-of-type {\n",
       "        vertical-align: middle;\n",
       "    }\n",
       "\n",
       "    .dataframe tbody tr th {\n",
       "        vertical-align: top;\n",
       "    }\n",
       "\n",
       "    .dataframe thead th {\n",
       "        text-align: right;\n",
       "    }\n",
       "</style>\n",
       "<table border=\"1\" class=\"dataframe\">\n",
       "  <thead>\n",
       "    <tr style=\"text-align: right;\">\n",
       "      <th></th>\n",
       "      <th>PlayTennis</th>\n",
       "      <th>Outlook</th>\n",
       "      <th>Temperature</th>\n",
       "      <th>Humidity</th>\n",
       "      <th>Wind</th>\n",
       "    </tr>\n",
       "  </thead>\n",
       "  <tbody>\n",
       "    <tr>\n",
       "      <th>0</th>\n",
       "      <td>No</td>\n",
       "      <td>Sunny</td>\n",
       "      <td>Hot</td>\n",
       "      <td>High</td>\n",
       "      <td>Weak</td>\n",
       "    </tr>\n",
       "    <tr>\n",
       "      <th>1</th>\n",
       "      <td>No</td>\n",
       "      <td>Sunny</td>\n",
       "      <td>Hot</td>\n",
       "      <td>High</td>\n",
       "      <td>Strong</td>\n",
       "    </tr>\n",
       "    <tr>\n",
       "      <th>2</th>\n",
       "      <td>Yes</td>\n",
       "      <td>Overcast</td>\n",
       "      <td>Hot</td>\n",
       "      <td>High</td>\n",
       "      <td>Weak</td>\n",
       "    </tr>\n",
       "    <tr>\n",
       "      <th>3</th>\n",
       "      <td>Yes</td>\n",
       "      <td>Rain</td>\n",
       "      <td>Mild</td>\n",
       "      <td>High</td>\n",
       "      <td>Weak</td>\n",
       "    </tr>\n",
       "    <tr>\n",
       "      <th>4</th>\n",
       "      <td>Yes</td>\n",
       "      <td>Rain</td>\n",
       "      <td>Cool</td>\n",
       "      <td>Normal</td>\n",
       "      <td>Weak</td>\n",
       "    </tr>\n",
       "    <tr>\n",
       "      <th>5</th>\n",
       "      <td>No</td>\n",
       "      <td>Rain</td>\n",
       "      <td>Cool</td>\n",
       "      <td>Normal</td>\n",
       "      <td>Strong</td>\n",
       "    </tr>\n",
       "    <tr>\n",
       "      <th>6</th>\n",
       "      <td>Yes</td>\n",
       "      <td>Overcast</td>\n",
       "      <td>Cool</td>\n",
       "      <td>Normal</td>\n",
       "      <td>Strong</td>\n",
       "    </tr>\n",
       "    <tr>\n",
       "      <th>7</th>\n",
       "      <td>No</td>\n",
       "      <td>Sunny</td>\n",
       "      <td>Mild</td>\n",
       "      <td>High</td>\n",
       "      <td>Weak</td>\n",
       "    </tr>\n",
       "    <tr>\n",
       "      <th>8</th>\n",
       "      <td>Yes</td>\n",
       "      <td>Sunny</td>\n",
       "      <td>Cool</td>\n",
       "      <td>Normal</td>\n",
       "      <td>Weak</td>\n",
       "    </tr>\n",
       "    <tr>\n",
       "      <th>9</th>\n",
       "      <td>Yes</td>\n",
       "      <td>Rain</td>\n",
       "      <td>Mild</td>\n",
       "      <td>Normal</td>\n",
       "      <td>Weak</td>\n",
       "    </tr>\n",
       "    <tr>\n",
       "      <th>10</th>\n",
       "      <td>Yes</td>\n",
       "      <td>Sunny</td>\n",
       "      <td>Mild</td>\n",
       "      <td>Normal</td>\n",
       "      <td>Strong</td>\n",
       "    </tr>\n",
       "    <tr>\n",
       "      <th>11</th>\n",
       "      <td>Yes</td>\n",
       "      <td>Overcast</td>\n",
       "      <td>Mild</td>\n",
       "      <td>High</td>\n",
       "      <td>Strong</td>\n",
       "    </tr>\n",
       "    <tr>\n",
       "      <th>12</th>\n",
       "      <td>Yes</td>\n",
       "      <td>Overcast</td>\n",
       "      <td>Hot</td>\n",
       "      <td>Normal</td>\n",
       "      <td>Weak</td>\n",
       "    </tr>\n",
       "    <tr>\n",
       "      <th>13</th>\n",
       "      <td>No</td>\n",
       "      <td>Rain</td>\n",
       "      <td>Mild</td>\n",
       "      <td>High</td>\n",
       "      <td>Strong</td>\n",
       "    </tr>\n",
       "  </tbody>\n",
       "</table>\n",
       "</div>"
      ],
      "text/plain": [
       "   PlayTennis   Outlook Temperature Humidity    Wind\n",
       "0          No     Sunny         Hot     High    Weak\n",
       "1          No     Sunny         Hot     High  Strong\n",
       "2         Yes  Overcast         Hot     High    Weak\n",
       "3         Yes      Rain        Mild     High    Weak\n",
       "4         Yes      Rain        Cool   Normal    Weak\n",
       "5          No      Rain        Cool   Normal  Strong\n",
       "6         Yes  Overcast        Cool   Normal  Strong\n",
       "7          No     Sunny        Mild     High    Weak\n",
       "8         Yes     Sunny        Cool   Normal    Weak\n",
       "9         Yes      Rain        Mild   Normal    Weak\n",
       "10        Yes     Sunny        Mild   Normal  Strong\n",
       "11        Yes  Overcast        Mild     High  Strong\n",
       "12        Yes  Overcast         Hot   Normal    Weak\n",
       "13         No      Rain        Mild     High  Strong"
      ]
     },
     "execution_count": 2,
     "metadata": {},
     "output_type": "execute_result"
    }
   ],
   "source": [
    "from collections import Counter\n",
    "import math\n",
    "import pandas as pd\n",
    "#import dataset\n",
    "df=pd.read_csv('PlayTennis.csv')\n",
    "n=len(df)   # Number of obs\n",
    "print(len(df))\n",
    "# print dataframe\n",
    "df"
   ]
  },
  {
   "cell_type": "code",
   "execution_count": 8,
   "id": "df270b9f",
   "metadata": {},
   "outputs": [],
   "source": [
    "#Entropy\n",
    "def entropy(ls):   # passing the list\n",
    "    counts=Counter(x for x in ls)    # Comprehension\n",
    "    total=len(ls)\n",
    "    probs=[x/total for x in counts.values()]    #Comprehension\n",
    "    E=sum(-p*math.log(p,2) for p in probs)      #comprehension\n",
    "    return E"
   ]
  },
  {
   "cell_type": "code",
   "execution_count": 9,
   "id": "ce8674e9",
   "metadata": {},
   "outputs": [
    {
     "name": "stdout",
     "output_type": "stream",
     "text": [
      "Counter({'Yes': 9, 'No': 5})\n"
     ]
    },
    {
     "data": {
      "text/plain": [
       "0.9402859586706309"
      ]
     },
     "execution_count": 9,
     "metadata": {},
     "output_type": "execute_result"
    }
   ],
   "source": [
    "counts = Counter(x for x in df['PlayTennis'])\n",
    "print(counts)\n",
    "\n",
    "#check\n",
    "entropy(df['PlayTennis'])"
   ]
  },
  {
   "cell_type": "code",
   "execution_count": 11,
   "id": "1523f9f4",
   "metadata": {},
   "outputs": [],
   "source": [
    "def inf_gain(data,a,target):     # pass the subset\n",
    "    df_split=data.groupby(a)\n",
    "    n=len(data)\n",
    "    df_agg=df_split.agg({target:[entropy,                                \n",
    "                        lambda x : len(x)/n]})[target]\n",
    "    df_agg.columns=['Entropy','Proportion']              # for new heading for entropy and proportions\n",
    "    new_E=sum(df_agg['Entropy']*df_agg['Proportion'])\n",
    "    old_E=entropy(df[target])\n",
    "    return old_E - new_E"
   ]
  },
  {
   "cell_type": "code",
   "execution_count": 30,
   "id": "47edde8f",
   "metadata": {},
   "outputs": [
    {
     "name": "stdout",
     "output_type": "stream",
     "text": [
      "Overcast\n",
      "   PlayTennis   Outlook Temperature Humidity    Wind\n",
      "2         Yes  Overcast         Hot     High    Weak\n",
      "6         Yes  Overcast        Cool   Normal  Strong\n",
      "11        Yes  Overcast        Mild     High  Strong\n",
      "12        Yes  Overcast         Hot   Normal    Weak\n",
      "Rain\n",
      "   PlayTennis Outlook Temperature Humidity    Wind\n",
      "3         Yes    Rain        Mild     High    Weak\n",
      "4         Yes    Rain        Cool   Normal    Weak\n",
      "5          No    Rain        Cool   Normal  Strong\n",
      "9         Yes    Rain        Mild   Normal    Weak\n",
      "13         No    Rain        Mild     High  Strong\n",
      "Sunny\n",
      "   PlayTennis Outlook Temperature Humidity    Wind\n",
      "0          No   Sunny         Hot     High    Weak\n",
      "1          No   Sunny         Hot     High  Strong\n",
      "7          No   Sunny        Mild     High    Weak\n",
      "8         Yes   Sunny        Cool   Normal    Weak\n",
      "10        Yes   Sunny        Mild   Normal  Strong\n"
     ]
    }
   ],
   "source": [
    "#Just for understanding\n",
    "dfs=df.groupby('Outlook')    \n",
    "#df_agg=dfs.agg('sum')['PlayTennis']\n",
    "#print(df_agg)\n",
    "for a,v in dfs:\n",
    "    print(a)\n",
    "    print(v)"
   ]
  },
  {
   "cell_type": "code",
   "execution_count": 31,
   "id": "d54cdba2",
   "metadata": {},
   "outputs": [
    {
     "data": {
      "text/plain": [
       "Outlook\n",
       "Overcast     YesYesYesYes\n",
       "Rain        YesYesNoYesNo\n",
       "Sunny        NoNoNoYesYes\n",
       "Name: PlayTennis, dtype: object"
      ]
     },
     "execution_count": 31,
     "metadata": {},
     "output_type": "execute_result"
    }
   ],
   "source": [
    "#check \n",
    "dfs.agg('sum')['PlayTennis']"
   ]
  },
  {
   "cell_type": "code",
   "execution_count": 14,
   "id": "dd230957",
   "metadata": {},
   "outputs": [
    {
     "name": "stdout",
     "output_type": "stream",
     "text": [
      "0.2467498197744391\n",
      "0.029222565658954647\n",
      "0.04812703040826927\n",
      "0.15183550136234136\n"
     ]
    }
   ],
   "source": [
    "# For Checking\n",
    "ig=inf_gain(df,'Outlook','PlayTennis')\n",
    "print(ig)\n",
    "ig=inf_gain(df,'Temperature','PlayTennis')\n",
    "print(ig)\n",
    "ig=inf_gain(df,'Wind','PlayTennis')\n",
    "print(ig)\n",
    "ig=inf_gain(df,'Humidity','PlayTennis')\n",
    "print(ig)"
   ]
  },
  {
   "cell_type": "code",
   "execution_count": 20,
   "id": "48d91ba3",
   "metadata": {},
   "outputs": [],
   "source": [
    "#id3\n",
    "def id3(df,target,attr,def_class=None,def_atrr='S'):\n",
    "    pn = Counter(x for x in df[target])             #Comprehension -Total no.of positive and negative examples\n",
    "    print(f'\\n ** {pn}**')\n",
    "    \n",
    "    if len(pn)==1:                      #return yes or no    (only yes or only no)\n",
    "        return next(iter(pn))\n",
    "    elif df.empty or (not attr):\n",
    "        return def_class\n",
    "    else:                                              #actual algorithm starts here\n",
    "        def_class=max(pn,key=pn.get) \n",
    "        print(f'Default class {def_class}')\n",
    "        gains={}\n",
    "        for a in attr:\n",
    "            gains[a]=inf_gain(df,a,target)\n",
    "            print(f'Inf gain on {a}:{gains[a]:0.04f}')\n",
    "            \n",
    "        best=max(gains,key=gains.get)\n",
    "        print(f'Max gain {best}')\n",
    "            \n",
    "        #tree\n",
    "        tree={best:{}}  #initialize tree with best at root\n",
    "        attr.remove(best)     # remove root node from attribute list\n",
    "            \n",
    "        for av, data in df.groupby(best):\n",
    "            #print(av)\n",
    "            #print(data)\n",
    "            subtree = id3(data,target,attr,def_class,best)    # subset\n",
    "            tree[best][av]=subtree\n",
    "            print(f'best {best} {av}')\n",
    "            print(tree)\n",
    "    return tree"
   ]
  },
  {
   "cell_type": "code",
   "execution_count": 38,
   "id": "d20feffb",
   "metadata": {},
   "outputs": [
    {
     "name": "stdout",
     "output_type": "stream",
     "text": [
      "Counter({'Yes': 9, 'No': 5})\n"
     ]
    },
    {
     "data": {
      "text/plain": [
       "'No'"
      ]
     },
     "execution_count": 38,
     "metadata": {},
     "output_type": "execute_result"
    }
   ],
   "source": [
    "#check\n",
    "c=Counter(x for x in df['PlayTennis'])\n",
    "print(c)\n",
    "next(iter(c))"
   ]
  },
  {
   "cell_type": "code",
   "execution_count": 21,
   "id": "a3387021",
   "metadata": {},
   "outputs": [
    {
     "name": "stdout",
     "output_type": "stream",
     "text": [
      "Predicting attributes ['Outlook', 'Temperature', 'Humidity', 'Wind']\n",
      "\n",
      " ** Counter({'Yes': 9, 'No': 5})**\n",
      "Default class Yes\n",
      "Inf gain on Outlook:0.2467\n",
      "Inf gain on Temperature:0.0292\n",
      "Inf gain on Humidity:0.1518\n",
      "Inf gain on Wind:0.0481\n",
      "Max gain Outlook\n",
      "\n",
      " ** Counter({'Yes': 4})**\n",
      "best Outlook Overcast\n",
      "{'Outlook': {'Overcast': 'Yes'}}\n",
      "\n",
      " ** Counter({'Yes': 3, 'No': 2})**\n",
      "Default class Yes\n",
      "Inf gain on Temperature:-0.0107\n",
      "Inf gain on Humidity:-0.0107\n",
      "Inf gain on Wind:0.9403\n",
      "Max gain Wind\n",
      "\n",
      " ** Counter({'No': 2})**\n",
      "best Wind Strong\n",
      "{'Wind': {'Strong': 'No'}}\n",
      "\n",
      " ** Counter({'Yes': 3})**\n",
      "best Wind Weak\n",
      "{'Wind': {'Strong': 'No', 'Weak': 'Yes'}}\n",
      "best Outlook Rain\n",
      "{'Outlook': {'Overcast': 'Yes', 'Rain': {'Wind': {'Strong': 'No', 'Weak': 'Yes'}}}}\n",
      "\n",
      " ** Counter({'No': 3, 'Yes': 2})**\n",
      "Default class No\n",
      "Inf gain on Temperature:0.5403\n",
      "Inf gain on Humidity:0.9403\n",
      "Max gain Humidity\n",
      "\n",
      " ** Counter({'No': 3})**\n",
      "best Humidity High\n",
      "{'Humidity': {'High': 'No'}}\n",
      "\n",
      " ** Counter({'Yes': 2})**\n",
      "best Humidity Normal\n",
      "{'Humidity': {'High': 'No', 'Normal': 'Yes'}}\n",
      "best Outlook Sunny\n",
      "{'Outlook': {'Overcast': 'Yes', 'Rain': {'Wind': {'Strong': 'No', 'Weak': 'Yes'}}, 'Sunny': {'Humidity': {'High': 'No', 'Normal': 'Yes'}}}}\n"
     ]
    }
   ],
   "source": [
    "attr=list(df.columns)              #display 'PlayTennis' column in output\n",
    "attr.remove('PlayTennis')     # Remove PlayTennis column\n",
    "print('Predicting attributes',attr)\n",
    "\n",
    "tree=id3(df,'PlayTennis',attr)"
   ]
  },
  {
   "cell_type": "code",
   "execution_count": null,
   "id": "39566efe",
   "metadata": {},
   "outputs": [],
   "source": [
    "#tree=id3(df,'PlayTennis',attr)"
   ]
  },
  {
   "cell_type": "code",
   "execution_count": 22,
   "id": "b0f846f6",
   "metadata": {},
   "outputs": [
    {
     "name": "stdout",
     "output_type": "stream",
     "text": [
      "Tree \n",
      "\n",
      "{'Outlook': {'Overcast': 'Yes',\n",
      "             'Rain': {'Wind': {'Strong': 'No', 'Weak': 'Yes'}},\n",
      "             'Sunny': {'Humidity': {'High': 'No', 'Normal': 'Yes'}}}}\n",
      "Best attribute Outlook\n",
      "Tree keys: \n",
      " dict_keys(['Overcast', 'Rain', 'Sunny'])\n"
     ]
    }
   ],
   "source": [
    "# Resultant Tree\n",
    "from pprint import pprint\n",
    "print('Tree \\n')\n",
    "pprint(tree)\n",
    "ba=next(iter(tree))\n",
    "print('Best attribute',ba)\n",
    "print('Tree keys: \\n',tree[ba].keys())"
   ]
  },
  {
   "cell_type": "markdown",
   "id": "4bae29dd",
   "metadata": {},
   "source": [
    "<h1> Revision </h1>\n"
   ]
  },
  {
   "cell_type": "code",
   "execution_count": 4,
   "id": "48389ca6",
   "metadata": {},
   "outputs": [
    {
     "data": {
      "text/html": [
       "<div>\n",
       "<style scoped>\n",
       "    .dataframe tbody tr th:only-of-type {\n",
       "        vertical-align: middle;\n",
       "    }\n",
       "\n",
       "    .dataframe tbody tr th {\n",
       "        vertical-align: top;\n",
       "    }\n",
       "\n",
       "    .dataframe thead th {\n",
       "        text-align: right;\n",
       "    }\n",
       "</style>\n",
       "<table border=\"1\" class=\"dataframe\">\n",
       "  <thead>\n",
       "    <tr style=\"text-align: right;\">\n",
       "      <th></th>\n",
       "      <th>Temperature</th>\n",
       "      <th>Humidity</th>\n",
       "    </tr>\n",
       "  </thead>\n",
       "  <tbody>\n",
       "    <tr>\n",
       "      <th>0</th>\n",
       "      <td>Hot</td>\n",
       "      <td>High</td>\n",
       "    </tr>\n",
       "    <tr>\n",
       "      <th>1</th>\n",
       "      <td>Hot</td>\n",
       "      <td>High</td>\n",
       "    </tr>\n",
       "    <tr>\n",
       "      <th>2</th>\n",
       "      <td>Hot</td>\n",
       "      <td>High</td>\n",
       "    </tr>\n",
       "    <tr>\n",
       "      <th>3</th>\n",
       "      <td>Mild</td>\n",
       "      <td>High</td>\n",
       "    </tr>\n",
       "    <tr>\n",
       "      <th>4</th>\n",
       "      <td>Cool</td>\n",
       "      <td>Normal</td>\n",
       "    </tr>\n",
       "    <tr>\n",
       "      <th>5</th>\n",
       "      <td>Cool</td>\n",
       "      <td>Normal</td>\n",
       "    </tr>\n",
       "    <tr>\n",
       "      <th>6</th>\n",
       "      <td>Cool</td>\n",
       "      <td>Normal</td>\n",
       "    </tr>\n",
       "    <tr>\n",
       "      <th>7</th>\n",
       "      <td>Mild</td>\n",
       "      <td>High</td>\n",
       "    </tr>\n",
       "    <tr>\n",
       "      <th>8</th>\n",
       "      <td>Cool</td>\n",
       "      <td>Normal</td>\n",
       "    </tr>\n",
       "    <tr>\n",
       "      <th>9</th>\n",
       "      <td>Mild</td>\n",
       "      <td>Normal</td>\n",
       "    </tr>\n",
       "    <tr>\n",
       "      <th>10</th>\n",
       "      <td>Mild</td>\n",
       "      <td>Normal</td>\n",
       "    </tr>\n",
       "    <tr>\n",
       "      <th>11</th>\n",
       "      <td>Mild</td>\n",
       "      <td>High</td>\n",
       "    </tr>\n",
       "    <tr>\n",
       "      <th>12</th>\n",
       "      <td>Hot</td>\n",
       "      <td>Normal</td>\n",
       "    </tr>\n",
       "    <tr>\n",
       "      <th>13</th>\n",
       "      <td>Mild</td>\n",
       "      <td>High</td>\n",
       "    </tr>\n",
       "  </tbody>\n",
       "</table>\n",
       "</div>"
      ],
      "text/plain": [
       "   Temperature Humidity\n",
       "0          Hot     High\n",
       "1          Hot     High\n",
       "2          Hot     High\n",
       "3         Mild     High\n",
       "4         Cool   Normal\n",
       "5         Cool   Normal\n",
       "6         Cool   Normal\n",
       "7         Mild     High\n",
       "8         Cool   Normal\n",
       "9         Mild   Normal\n",
       "10        Mild   Normal\n",
       "11        Mild     High\n",
       "12         Hot   Normal\n",
       "13        Mild     High"
      ]
     },
     "execution_count": 4,
     "metadata": {},
     "output_type": "execute_result"
    }
   ],
   "source": [
    "df.head()\n",
    "df.tail()\n",
    "df.columns\n",
    "df.values\n",
    "df.values.tolist()\n",
    "df.loc[:,'Humidity']     #loc - access using column name\n",
    "#list of columns\n",
    "df.loc[2:5,['Outlook','Humidity']]\n",
    "\n",
    "#iloc\n",
    "df.iloc[:,1]\n",
    "df.iloc[:,1:]\n",
    "df.iloc[:,-1]\n",
    "df.iloc[:,[2,3]]"
   ]
  },
  {
   "cell_type": "code",
   "execution_count": 5,
   "id": "f7171d2f",
   "metadata": {},
   "outputs": [
    {
     "data": {
      "text/plain": [
       "array(['Sunny', 'Overcast', 'Rain'], dtype=object)"
      ]
     },
     "execution_count": 5,
     "metadata": {},
     "output_type": "execute_result"
    }
   ],
   "source": [
    "df['Outlook'].unique()"
   ]
  },
  {
   "cell_type": "code",
   "execution_count": 17,
   "id": "c33f6f27",
   "metadata": {},
   "outputs": [
    {
     "name": "stdout",
     "output_type": "stream",
     "text": [
      "Counter({'Yes': 9, 'No': 5})\n",
      "No\n"
     ]
    }
   ],
   "source": [
    "# Counter\n",
    "c=Counter(x for x in df['PlayTennis'])\n",
    "print(c)\n",
    "print(next(iter(c)))"
   ]
  },
  {
   "cell_type": "code",
   "execution_count": 7,
   "id": "7c1d51e6",
   "metadata": {},
   "outputs": [
    {
     "name": "stdout",
     "output_type": "stream",
     "text": [
      "Attribute value Overcast\n",
      "   PlayTennis   Outlook Temperature Humidity    Wind\n",
      "2         Yes  Overcast         Hot     High    Weak\n",
      "6         Yes  Overcast        Cool   Normal  Strong\n",
      "11        Yes  Overcast        Mild     High  Strong\n",
      "12        Yes  Overcast         Hot   Normal    Weak\n",
      "Attribute value Rain\n",
      "   PlayTennis Outlook Temperature Humidity    Wind\n",
      "3         Yes    Rain        Mild     High    Weak\n",
      "4         Yes    Rain        Cool   Normal    Weak\n",
      "5          No    Rain        Cool   Normal  Strong\n",
      "9         Yes    Rain        Mild   Normal    Weak\n",
      "13         No    Rain        Mild     High  Strong\n",
      "Attribute value Sunny\n",
      "   PlayTennis Outlook Temperature Humidity    Wind\n",
      "0          No   Sunny         Hot     High    Weak\n",
      "1          No   Sunny         Hot     High  Strong\n",
      "7          No   Sunny        Mild     High    Weak\n",
      "8         Yes   Sunny        Cool   Normal    Weak\n",
      "10        Yes   Sunny        Mild   Normal  Strong\n"
     ]
    }
   ],
   "source": [
    "#groupby\n",
    "ss=df.groupby('Outlook')\n",
    "for k,v in ss:\n",
    "    print('Attribute value',k)\n",
    "    print(v)"
   ]
  },
  {
   "cell_type": "code",
   "execution_count": null,
   "id": "59fad1d3",
   "metadata": {},
   "outputs": [],
   "source": []
  }
 ],
 "metadata": {
  "kernelspec": {
   "display_name": "Python 3 (ipykernel)",
   "language": "python",
   "name": "python3"
  },
  "language_info": {
   "codemirror_mode": {
    "name": "ipython",
    "version": 3
   },
   "file_extension": ".py",
   "mimetype": "text/x-python",
   "name": "python",
   "nbconvert_exporter": "python",
   "pygments_lexer": "ipython3",
   "version": "3.11.4"
  }
 },
 "nbformat": 4,
 "nbformat_minor": 5
}
