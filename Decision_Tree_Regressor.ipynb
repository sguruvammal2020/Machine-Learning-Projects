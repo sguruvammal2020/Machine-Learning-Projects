{
  "nbformat": 4,
  "nbformat_minor": 0,
  "metadata": {
    "colab": {
      "provenance": []
    },
    "kernelspec": {
      "name": "python3",
      "display_name": "Python 3"
    },
    "language_info": {
      "name": "python"
    }
  },
  "cells": [
    {
      "cell_type": "code",
      "execution_count": null,
      "metadata": {
        "id": "Wf9yanza66jQ"
      },
      "outputs": [],
      "source": []
    },
    {
      "cell_type": "markdown",
      "source": [],
      "metadata": {
        "id": "9BZR2Cp07KFq"
      }
    },
    {
      "cell_type": "code",
      "source": [
        "import pandas as pd\n",
        "df=pd.read_csv('melb_data.csv')\n"
      ],
      "metadata": {
        "id": "iFJbSlkz7LzQ"
      },
      "execution_count": 62,
      "outputs": []
    },
    {
      "cell_type": "code",
      "source": [
        "print(df.head())"
      ],
      "metadata": {
        "colab": {
          "base_uri": "https://localhost:8080/"
        },
        "id": "Zg9ALvaq7dC6",
        "outputId": "dcac6db4-ba86-4840-e8d3-1873a18820f1"
      },
      "execution_count": 2,
      "outputs": [
        {
          "output_type": "stream",
          "name": "stdout",
          "text": [
            "       Suburb           Address  Rooms Type      Price Method SellerG  \\\n",
            "0  Abbotsford      85 Turner St      2    h  1480000.0      S  Biggin   \n",
            "1  Abbotsford   25 Bloomburg St      2    h  1035000.0      S  Biggin   \n",
            "2  Abbotsford      5 Charles St      3    h  1465000.0     SP  Biggin   \n",
            "3  Abbotsford  40 Federation La      3    h   850000.0     PI  Biggin   \n",
            "4  Abbotsford       55a Park St      4    h  1600000.0     VB  Nelson   \n",
            "\n",
            "        Date  Distance  Postcode  ...  Bathroom  Car  Landsize  BuildingArea  \\\n",
            "0  3/12/2016       2.5    3067.0  ...       1.0  1.0     202.0           NaN   \n",
            "1  4/02/2016       2.5    3067.0  ...       1.0  0.0     156.0          79.0   \n",
            "2  4/03/2017       2.5    3067.0  ...       2.0  0.0     134.0         150.0   \n",
            "3  4/03/2017       2.5    3067.0  ...       2.0  1.0      94.0           NaN   \n",
            "4  4/06/2016       2.5    3067.0  ...       1.0  2.0     120.0         142.0   \n",
            "\n",
            "   YearBuilt  CouncilArea Lattitude  Longtitude             Regionname  \\\n",
            "0        NaN        Yarra  -37.7996    144.9984  Northern Metropolitan   \n",
            "1     1900.0        Yarra  -37.8079    144.9934  Northern Metropolitan   \n",
            "2     1900.0        Yarra  -37.8093    144.9944  Northern Metropolitan   \n",
            "3        NaN        Yarra  -37.7969    144.9969  Northern Metropolitan   \n",
            "4     2014.0        Yarra  -37.8072    144.9941  Northern Metropolitan   \n",
            "\n",
            "  Propertycount  \n",
            "0        4019.0  \n",
            "1        4019.0  \n",
            "2        4019.0  \n",
            "3        4019.0  \n",
            "4        4019.0  \n",
            "\n",
            "[5 rows x 21 columns]\n"
          ]
        }
      ]
    },
    {
      "cell_type": "code",
      "source": [
        "print(df.tail())"
      ],
      "metadata": {
        "colab": {
          "base_uri": "https://localhost:8080/"
        },
        "id": "Enu_p3U97i4x",
        "outputId": "f4a47583-1f60-446f-fb89-0d41f4ad6d92"
      },
      "execution_count": 3,
      "outputs": [
        {
          "output_type": "stream",
          "name": "stdout",
          "text": [
            "              Suburb        Address  Rooms Type      Price Method   SellerG  \\\n",
            "13575  Wheelers Hill   12 Strada Cr      4    h  1245000.0      S     Barry   \n",
            "13576   Williamstown  77 Merrett Dr      3    h  1031000.0     SP  Williams   \n",
            "13577   Williamstown    83 Power St      3    h  1170000.0      S     Raine   \n",
            "13578   Williamstown   96 Verdon St      4    h  2500000.0     PI   Sweeney   \n",
            "13579     Yarraville     6 Agnes St      4    h  1285000.0     SP   Village   \n",
            "\n",
            "             Date  Distance  Postcode  ...  Bathroom  Car  Landsize  \\\n",
            "13575  26/08/2017      16.7    3150.0  ...       2.0  2.0     652.0   \n",
            "13576  26/08/2017       6.8    3016.0  ...       2.0  2.0     333.0   \n",
            "13577  26/08/2017       6.8    3016.0  ...       2.0  4.0     436.0   \n",
            "13578  26/08/2017       6.8    3016.0  ...       1.0  5.0     866.0   \n",
            "13579  26/08/2017       6.3    3013.0  ...       1.0  1.0     362.0   \n",
            "\n",
            "       BuildingArea  YearBuilt  CouncilArea Lattitude  Longtitude  \\\n",
            "13575           NaN     1981.0          NaN -37.90562   145.16761   \n",
            "13576         133.0     1995.0          NaN -37.85927   144.87904   \n",
            "13577           NaN     1997.0          NaN -37.85274   144.88738   \n",
            "13578         157.0     1920.0          NaN -37.85908   144.89299   \n",
            "13579         112.0     1920.0          NaN -37.81188   144.88449   \n",
            "\n",
            "                       Regionname Propertycount  \n",
            "13575  South-Eastern Metropolitan        7392.0  \n",
            "13576        Western Metropolitan        6380.0  \n",
            "13577        Western Metropolitan        6380.0  \n",
            "13578        Western Metropolitan        6380.0  \n",
            "13579        Western Metropolitan        6543.0  \n",
            "\n",
            "[5 rows x 21 columns]\n"
          ]
        }
      ]
    },
    {
      "cell_type": "code",
      "source": [
        "print(df.dtypes)"
      ],
      "metadata": {
        "colab": {
          "base_uri": "https://localhost:8080/"
        },
        "id": "EsBXSFko7qAB",
        "outputId": "5df9e7f2-c2c3-4ae8-fe48-864dea662e01"
      },
      "execution_count": 5,
      "outputs": [
        {
          "output_type": "stream",
          "name": "stdout",
          "text": [
            "Suburb            object\n",
            "Address           object\n",
            "Rooms              int64\n",
            "Type              object\n",
            "Price            float64\n",
            "Method            object\n",
            "SellerG           object\n",
            "Date              object\n",
            "Distance         float64\n",
            "Postcode         float64\n",
            "Bedroom2         float64\n",
            "Bathroom         float64\n",
            "Car              float64\n",
            "Landsize         float64\n",
            "BuildingArea     float64\n",
            "YearBuilt        float64\n",
            "CouncilArea       object\n",
            "Lattitude        float64\n",
            "Longtitude       float64\n",
            "Regionname        object\n",
            "Propertycount    float64\n",
            "dtype: object\n"
          ]
        }
      ]
    },
    {
      "cell_type": "code",
      "source": [
        "print(df.describe())"
      ],
      "metadata": {
        "colab": {
          "base_uri": "https://localhost:8080/"
        },
        "id": "Rho80hjH78_y",
        "outputId": "01ffd50b-82c6-4785-fe6d-89b7badb7911"
      },
      "execution_count": 6,
      "outputs": [
        {
          "output_type": "stream",
          "name": "stdout",
          "text": [
            "              Rooms         Price      Distance      Postcode      Bedroom2  \\\n",
            "count  13580.000000  1.358000e+04  13580.000000  13580.000000  13580.000000   \n",
            "mean       2.937997  1.075684e+06     10.137776   3105.301915      2.914728   \n",
            "std        0.955748  6.393107e+05      5.868725     90.676964      0.965921   \n",
            "min        1.000000  8.500000e+04      0.000000   3000.000000      0.000000   \n",
            "25%        2.000000  6.500000e+05      6.100000   3044.000000      2.000000   \n",
            "50%        3.000000  9.030000e+05      9.200000   3084.000000      3.000000   \n",
            "75%        3.000000  1.330000e+06     13.000000   3148.000000      3.000000   \n",
            "max       10.000000  9.000000e+06     48.100000   3977.000000     20.000000   \n",
            "\n",
            "           Bathroom           Car       Landsize  BuildingArea    YearBuilt  \\\n",
            "count  13580.000000  13518.000000   13580.000000   7130.000000  8205.000000   \n",
            "mean       1.534242      1.610075     558.416127    151.967650  1964.684217   \n",
            "std        0.691712      0.962634    3990.669241    541.014538    37.273762   \n",
            "min        0.000000      0.000000       0.000000      0.000000  1196.000000   \n",
            "25%        1.000000      1.000000     177.000000     93.000000  1940.000000   \n",
            "50%        1.000000      2.000000     440.000000    126.000000  1970.000000   \n",
            "75%        2.000000      2.000000     651.000000    174.000000  1999.000000   \n",
            "max        8.000000     10.000000  433014.000000  44515.000000  2018.000000   \n",
            "\n",
            "          Lattitude    Longtitude  Propertycount  \n",
            "count  13580.000000  13580.000000   13580.000000  \n",
            "mean     -37.809203    144.995216    7454.417378  \n",
            "std        0.079260      0.103916    4378.581772  \n",
            "min      -38.182550    144.431810     249.000000  \n",
            "25%      -37.856822    144.929600    4380.000000  \n",
            "50%      -37.802355    145.000100    6555.000000  \n",
            "75%      -37.756400    145.058305   10331.000000  \n",
            "max      -37.408530    145.526350   21650.000000  \n"
          ]
        }
      ]
    },
    {
      "cell_type": "code",
      "source": [
        "print(df.shape)"
      ],
      "metadata": {
        "colab": {
          "base_uri": "https://localhost:8080/"
        },
        "id": "ptmaF1N98Bah",
        "outputId": "dc8610df-b04a-4991-c76d-413b621fb92e"
      },
      "execution_count": 8,
      "outputs": [
        {
          "output_type": "stream",
          "name": "stdout",
          "text": [
            "(13580, 21)\n"
          ]
        }
      ]
    },
    {
      "cell_type": "code",
      "source": [
        "print(df.columns)"
      ],
      "metadata": {
        "colab": {
          "base_uri": "https://localhost:8080/"
        },
        "id": "jSO-E-DX8GyY",
        "outputId": "a4672dbc-16f3-4191-b1e9-059d819b7a8a"
      },
      "execution_count": 10,
      "outputs": [
        {
          "output_type": "stream",
          "name": "stdout",
          "text": [
            "Index(['Suburb', 'Address', 'Rooms', 'Type', 'Price', 'Method', 'SellerG',\n",
            "       'Date', 'Distance', 'Postcode', 'Bedroom2', 'Bathroom', 'Car',\n",
            "       'Landsize', 'BuildingArea', 'YearBuilt', 'CouncilArea', 'Lattitude',\n",
            "       'Longtitude', 'Regionname', 'Propertycount'],\n",
            "      dtype='object')\n"
          ]
        }
      ]
    },
    {
      "cell_type": "code",
      "source": [
        "print(df.info())"
      ],
      "metadata": {
        "colab": {
          "base_uri": "https://localhost:8080/"
        },
        "id": "7NvArG8F9xDS",
        "outputId": "560a9eb0-a39a-4c74-b51a-55875d15425b"
      },
      "execution_count": 11,
      "outputs": [
        {
          "output_type": "stream",
          "name": "stdout",
          "text": [
            "<class 'pandas.core.frame.DataFrame'>\n",
            "RangeIndex: 13580 entries, 0 to 13579\n",
            "Data columns (total 21 columns):\n",
            " #   Column         Non-Null Count  Dtype  \n",
            "---  ------         --------------  -----  \n",
            " 0   Suburb         13580 non-null  object \n",
            " 1   Address        13580 non-null  object \n",
            " 2   Rooms          13580 non-null  int64  \n",
            " 3   Type           13580 non-null  object \n",
            " 4   Price          13580 non-null  float64\n",
            " 5   Method         13580 non-null  object \n",
            " 6   SellerG        13580 non-null  object \n",
            " 7   Date           13580 non-null  object \n",
            " 8   Distance       13580 non-null  float64\n",
            " 9   Postcode       13580 non-null  float64\n",
            " 10  Bedroom2       13580 non-null  float64\n",
            " 11  Bathroom       13580 non-null  float64\n",
            " 12  Car            13518 non-null  float64\n",
            " 13  Landsize       13580 non-null  float64\n",
            " 14  BuildingArea   7130 non-null   float64\n",
            " 15  YearBuilt      8205 non-null   float64\n",
            " 16  CouncilArea    12211 non-null  object \n",
            " 17  Lattitude      13580 non-null  float64\n",
            " 18  Longtitude     13580 non-null  float64\n",
            " 19  Regionname     13580 non-null  object \n",
            " 20  Propertycount  13580 non-null  float64\n",
            "dtypes: float64(12), int64(1), object(8)\n",
            "memory usage: 2.2+ MB\n",
            "None\n"
          ]
        }
      ]
    },
    {
      "cell_type": "code",
      "source": [
        "print(df.isnull().sum())"
      ],
      "metadata": {
        "colab": {
          "base_uri": "https://localhost:8080/"
        },
        "id": "bETberyx-Mlr",
        "outputId": "f8ad4dde-d53f-4325-c7b2-62fc32dc91f8"
      },
      "execution_count": 12,
      "outputs": [
        {
          "output_type": "stream",
          "name": "stdout",
          "text": [
            "Suburb              0\n",
            "Address             0\n",
            "Rooms               0\n",
            "Type                0\n",
            "Price               0\n",
            "Method              0\n",
            "SellerG             0\n",
            "Date                0\n",
            "Distance            0\n",
            "Postcode            0\n",
            "Bedroom2            0\n",
            "Bathroom            0\n",
            "Car                62\n",
            "Landsize            0\n",
            "BuildingArea     6450\n",
            "YearBuilt        5375\n",
            "CouncilArea      1369\n",
            "Lattitude           0\n",
            "Longtitude          0\n",
            "Regionname          0\n",
            "Propertycount       0\n",
            "dtype: int64\n"
          ]
        }
      ]
    },
    {
      "cell_type": "markdown",
      "source": [
        "## Data selection and filtering"
      ],
      "metadata": {
        "id": "nPXtpGF-AZDM"
      }
    },
    {
      "cell_type": "code",
      "source": [
        "print(df['Suburb'])"
      ],
      "metadata": {
        "colab": {
          "base_uri": "https://localhost:8080/"
        },
        "id": "X8KrxGb0AdJf",
        "outputId": "0739680f-eb17-465f-dee5-df04dbbe0b0a"
      },
      "execution_count": 13,
      "outputs": [
        {
          "output_type": "stream",
          "name": "stdout",
          "text": [
            "0           Abbotsford\n",
            "1           Abbotsford\n",
            "2           Abbotsford\n",
            "3           Abbotsford\n",
            "4           Abbotsford\n",
            "             ...      \n",
            "13575    Wheelers Hill\n",
            "13576     Williamstown\n",
            "13577     Williamstown\n",
            "13578     Williamstown\n",
            "13579       Yarraville\n",
            "Name: Suburb, Length: 13580, dtype: object\n"
          ]
        }
      ]
    },
    {
      "cell_type": "code",
      "source": [
        "print(df['Regionname'], ['Propertycount'])"
      ],
      "metadata": {
        "colab": {
          "base_uri": "https://localhost:8080/"
        },
        "id": "ANO5O6V-Bugk",
        "outputId": "2cb43286-e38d-4d94-c86d-1513f86520f7"
      },
      "execution_count": 17,
      "outputs": [
        {
          "output_type": "stream",
          "name": "stdout",
          "text": [
            "0             Northern Metropolitan\n",
            "1             Northern Metropolitan\n",
            "2             Northern Metropolitan\n",
            "3             Northern Metropolitan\n",
            "4             Northern Metropolitan\n",
            "                    ...            \n",
            "13575    South-Eastern Metropolitan\n",
            "13576          Western Metropolitan\n",
            "13577          Western Metropolitan\n",
            "13578          Western Metropolitan\n",
            "13579          Western Metropolitan\n",
            "Name: Regionname, Length: 13580, dtype: object ['Propertycount']\n"
          ]
        }
      ]
    },
    {
      "cell_type": "code",
      "source": [
        "df1=df[df['Price']>850000]\n",
        "print(df1.shape)"
      ],
      "metadata": {
        "colab": {
          "base_uri": "https://localhost:8080/"
        },
        "id": "Lh5p-K7aCIts",
        "outputId": "3e81bc5e-cb51-4c55-ddfb-ada7a61aef0d"
      },
      "execution_count": 20,
      "outputs": [
        {
          "output_type": "stream",
          "name": "stdout",
          "text": [
            "(7446, 21)\n"
          ]
        }
      ]
    },
    {
      "cell_type": "code",
      "source": [
        "print(df.iloc[13579])      # 13579 is the index of the row"
      ],
      "metadata": {
        "colab": {
          "base_uri": "https://localhost:8080/"
        },
        "id": "Fi_rYlWIC0fP",
        "outputId": "cb610de2-9d2f-433e-bc7a-ae9b2295cbf7"
      },
      "execution_count": 23,
      "outputs": [
        {
          "output_type": "stream",
          "name": "stdout",
          "text": [
            "Suburb                     Yarraville\n",
            "Address                    6 Agnes St\n",
            "Rooms                               4\n",
            "Type                                h\n",
            "Price                       1285000.0\n",
            "Method                             SP\n",
            "SellerG                       Village\n",
            "Date                       26/08/2017\n",
            "Distance                          6.3\n",
            "Postcode                       3013.0\n",
            "Bedroom2                          4.0\n",
            "Bathroom                          1.0\n",
            "Car                               1.0\n",
            "Landsize                        362.0\n",
            "BuildingArea                    112.0\n",
            "YearBuilt                      1920.0\n",
            "CouncilArea                       NaN\n",
            "Lattitude                   -37.81188\n",
            "Longtitude                  144.88449\n",
            "Regionname       Western Metropolitan\n",
            "Propertycount                  6543.0\n",
            "Name: 13579, dtype: object\n"
          ]
        }
      ]
    },
    {
      "cell_type": "code",
      "source": [
        "print(df.iloc[0:5])     # display the rows from index 0 to 5-1 index"
      ],
      "metadata": {
        "colab": {
          "base_uri": "https://localhost:8080/"
        },
        "id": "P1MC4iAiDN60",
        "outputId": "2bf7e189-6cce-4c73-e5d8-c19680d973c4"
      },
      "execution_count": 25,
      "outputs": [
        {
          "output_type": "stream",
          "name": "stdout",
          "text": [
            "       Suburb           Address  Rooms Type      Price Method SellerG  \\\n",
            "0  Abbotsford      85 Turner St      2    h  1480000.0      S  Biggin   \n",
            "1  Abbotsford   25 Bloomburg St      2    h  1035000.0      S  Biggin   \n",
            "2  Abbotsford      5 Charles St      3    h  1465000.0     SP  Biggin   \n",
            "3  Abbotsford  40 Federation La      3    h   850000.0     PI  Biggin   \n",
            "4  Abbotsford       55a Park St      4    h  1600000.0     VB  Nelson   \n",
            "\n",
            "        Date  Distance  Postcode  ...  Bathroom  Car  Landsize  BuildingArea  \\\n",
            "0  3/12/2016       2.5    3067.0  ...       1.0  1.0     202.0           NaN   \n",
            "1  4/02/2016       2.5    3067.0  ...       1.0  0.0     156.0          79.0   \n",
            "2  4/03/2017       2.5    3067.0  ...       2.0  0.0     134.0         150.0   \n",
            "3  4/03/2017       2.5    3067.0  ...       2.0  1.0      94.0           NaN   \n",
            "4  4/06/2016       2.5    3067.0  ...       1.0  2.0     120.0         142.0   \n",
            "\n",
            "   YearBuilt  CouncilArea Lattitude  Longtitude             Regionname  \\\n",
            "0        NaN        Yarra  -37.7996    144.9984  Northern Metropolitan   \n",
            "1     1900.0        Yarra  -37.8079    144.9934  Northern Metropolitan   \n",
            "2     1900.0        Yarra  -37.8093    144.9944  Northern Metropolitan   \n",
            "3        NaN        Yarra  -37.7969    144.9969  Northern Metropolitan   \n",
            "4     2014.0        Yarra  -37.8072    144.9941  Northern Metropolitan   \n",
            "\n",
            "  Propertycount  \n",
            "0        4019.0  \n",
            "1        4019.0  \n",
            "2        4019.0  \n",
            "3        4019.0  \n",
            "4        4019.0  \n",
            "\n",
            "[5 rows x 21 columns]\n"
          ]
        }
      ]
    },
    {
      "cell_type": "code",
      "source": [
        "print(df['YearBuilt'])"
      ],
      "metadata": {
        "colab": {
          "base_uri": "https://localhost:8080/"
        },
        "id": "qmi_9tubDgS7",
        "outputId": "bdc594f3-b27f-40b4-94a7-4d018833b700"
      },
      "execution_count": 27,
      "outputs": [
        {
          "output_type": "stream",
          "name": "stdout",
          "text": [
            "0           NaN\n",
            "1        1900.0\n",
            "2        1900.0\n",
            "3           NaN\n",
            "4        2014.0\n",
            "          ...  \n",
            "13575    1981.0\n",
            "13576    1995.0\n",
            "13577    1997.0\n",
            "13578    1920.0\n",
            "13579    1920.0\n",
            "Name: YearBuilt, Length: 13580, dtype: float64\n"
          ]
        }
      ]
    },
    {
      "cell_type": "code",
      "source": [
        "df2=df[(df['YearBuilt']>=1995) & (df['YearBuilt']<=2005)]\n",
        "print(df2)\n",
        "df2.shape"
      ],
      "metadata": {
        "colab": {
          "base_uri": "https://localhost:8080/"
        },
        "id": "IKfdALasFAkj",
        "outputId": "8e79d87c-6e52-44c3-888d-c44ea33468af"
      },
      "execution_count": 36,
      "outputs": [
        {
          "output_type": "stream",
          "name": "stdout",
          "text": [
            "             Suburb           Address  Rooms Type      Price Method   SellerG  \\\n",
            "11       Abbotsford   40 Nicholson St      3    h  1350000.0     VB    Nelson   \n",
            "35       Abbotsford       45 Yarra St      3    h  1195000.0     SP    Jellis   \n",
            "58     Airport West    4/54 Hawker St      2    u   462500.0      S     Barry   \n",
            "65     Airport West   144 Marshall Rd      3    h   715000.0      S   Rendina   \n",
            "87      Albert Park      1 Moubray St      3    h  1800000.0     VB      Greg   \n",
            "...             ...               ...    ...  ...        ...    ...       ...   \n",
            "13543     St Albans  33 Moonstone Cct      4    h   537000.0      S       YPA   \n",
            "13548       Sunbury    64 Stewarts La      3    h   605000.0      S       One   \n",
            "13556       Tarneit     27 McMahon Cr      3    h   350000.0     VB       S&L   \n",
            "13576  Williamstown     77 Merrett Dr      3    h  1031000.0     SP  Williams   \n",
            "13577  Williamstown       83 Power St      3    h  1170000.0      S     Raine   \n",
            "\n",
            "             Date  Distance  Postcode  ...  Bathroom  Car  Landsize  \\\n",
            "11     12/11/2016       2.5    3067.0  ...       2.0  2.0     214.0   \n",
            "35     27/11/2016       2.5    3067.0  ...       2.0  1.0     120.0   \n",
            "58     16/07/2016      13.5    3042.0  ...       1.0  1.0     164.0   \n",
            "65     18/03/2017      13.5    3042.0  ...       2.0  2.0     422.0   \n",
            "87      7/11/2016       3.3    3206.0  ...       2.0  1.0     132.0   \n",
            "...           ...       ...       ...  ...       ...  ...       ...   \n",
            "13543  26/08/2017      14.0    3021.0  ...       2.0  2.0     447.0   \n",
            "13548  26/08/2017      31.7    3429.0  ...       2.0  2.0     755.0   \n",
            "13556  26/08/2017      18.4    3029.0  ...       1.0  1.0     466.0   \n",
            "13576  26/08/2017       6.8    3016.0  ...       2.0  2.0     333.0   \n",
            "13577  26/08/2017       6.8    3016.0  ...       2.0  4.0     436.0   \n",
            "\n",
            "       BuildingArea  YearBuilt    CouncilArea Lattitude  Longtitude  \\\n",
            "11            190.0     2005.0          Yarra -37.80850   144.99640   \n",
            "35            128.0     1998.0          Yarra -37.80220   144.99540   \n",
            "58              NaN     2003.0  Moonee Valley -37.72180   144.88630   \n",
            "65            126.0     1995.0  Moonee Valley -37.71640   144.87920   \n",
            "87            159.0     1996.0   Port Phillip -37.84150   144.95200   \n",
            "...             ...        ...            ...       ...         ...   \n",
            "13543         134.0     1996.0            NaN -37.75405   144.82014   \n",
            "13548         229.0     1996.0            NaN -37.56533   144.71233   \n",
            "13556         103.0     2003.0            NaN -37.86744   144.65609   \n",
            "13576         133.0     1995.0            NaN -37.85927   144.87904   \n",
            "13577           NaN     1997.0            NaN -37.85274   144.88738   \n",
            "\n",
            "                  Regionname Propertycount  \n",
            "11     Northern Metropolitan        4019.0  \n",
            "35     Northern Metropolitan        4019.0  \n",
            "58      Western Metropolitan        3464.0  \n",
            "65      Western Metropolitan        3464.0  \n",
            "87     Southern Metropolitan        3280.0  \n",
            "...                      ...           ...  \n",
            "13543   Western Metropolitan       14042.0  \n",
            "13548   Western Metropolitan       14092.0  \n",
            "13556   Western Metropolitan       10160.0  \n",
            "13576   Western Metropolitan        6380.0  \n",
            "13577   Western Metropolitan        6380.0  \n",
            "\n",
            "[1067 rows x 21 columns]\n"
          ]
        },
        {
          "output_type": "execute_result",
          "data": {
            "text/plain": [
              "(1067, 21)"
            ]
          },
          "metadata": {},
          "execution_count": 36
        }
      ]
    },
    {
      "cell_type": "code",
      "source": [
        "import pandas as pd\n",
        "from datetime import datetime\n",
        "\n",
        "# Find the latest year in the 'YearBuilt' column\n",
        "newest_year = df['YearBuilt'].max()\n",
        "print(newest_year)\n",
        "\n",
        "# Get the current year\n",
        "current_year = datetime.now().year\n",
        "\n",
        "# Calculate the age of the newest house\n",
        "age_of_newest_house = current_year - newest_year\n",
        "\n",
        "print(f\"The age of the newest house is: {age_of_newest_house} years\")\n"
      ],
      "metadata": {
        "colab": {
          "base_uri": "https://localhost:8080/"
        },
        "id": "ywvYHInJPeKr",
        "outputId": "2c1ef2a3-a969-41f5-df58-8b123d371364"
      },
      "execution_count": 39,
      "outputs": [
        {
          "output_type": "stream",
          "name": "stdout",
          "text": [
            "2018.0\n",
            "The age of the newest house is: 6.0 years\n"
          ]
        }
      ]
    },
    {
      "cell_type": "markdown",
      "source": [
        "###What is the average price of houses sold in first suburb?"
      ],
      "metadata": {
        "id": "hVnWalZ-Q6Jc"
      }
    },
    {
      "cell_type": "code",
      "source": [
        "# Suburb_distinct_values = df['Suburb'].unique()\n",
        "# print(Suburb_distinct_values)\n",
        "# print(Suburb_distinct_values==)\n",
        "houses=df[df['Suburb'] == 'Abbotsford']\n",
        "# print(houses)\n",
        "# houses.shape\n",
        "#average_prices=sum(houses['Price'])/len(houses)\n",
        "houses['Price'].mean()\n",
        "#print(average_prices)"
      ],
      "metadata": {
        "colab": {
          "base_uri": "https://localhost:8080/"
        },
        "id": "h8WMPWQLSrLW",
        "outputId": "bfcf44c0-841e-4000-bfd3-4743a3e77897"
      },
      "execution_count": 64,
      "outputs": [
        {
          "output_type": "execute_result",
          "data": {
            "text/plain": [
              "1060366.0714285714"
            ]
          },
          "metadata": {},
          "execution_count": 64
        }
      ]
    },
    {
      "cell_type": "markdown",
      "source": [
        "##Which suburb has the highest average house price?"
      ],
      "metadata": {
        "id": "NYIw8ednSDWV"
      }
    },
    {
      "cell_type": "code",
      "source": [
        "#print(df)\n",
        "\n",
        "#df['Suburb'].unique()\n",
        "\n",
        "\n",
        "average_prices=df.groupby('Suburb')['Price'].mean()\n",
        "print(average_prices.max())\n"
      ],
      "metadata": {
        "colab": {
          "base_uri": "https://localhost:8080/"
        },
        "id": "26W_UVk5oeFD",
        "outputId": "2d6cf1ca-8fd9-4a98-c931-e87e38656bda"
      },
      "execution_count": 76,
      "outputs": [
        {
          "output_type": "stream",
          "name": "stdout",
          "text": [
            "2185000.0\n"
          ]
        }
      ]
    },
    {
      "cell_type": "markdown",
      "source": [
        "##How many properties have more than 3 bedrooms?"
      ],
      "metadata": {
        "id": "K5-X7uYvSFmr"
      }
    },
    {
      "cell_type": "markdown",
      "source": [
        "##Which year has the highest number of houses built?"
      ],
      "metadata": {
        "id": "5xfjFGywSRG9"
      }
    },
    {
      "cell_type": "markdown",
      "source": [
        "##What is the average price of the houses with or without the garage?"
      ],
      "metadata": {
        "id": "ENgXtrK5SYuM"
      }
    },
    {
      "cell_type": "code",
      "source": [
        "print(avg_price)"
      ],
      "metadata": {
        "id": "BCAJ5_VVRJVM"
      },
      "execution_count": null,
      "outputs": []
    },
    {
      "cell_type": "markdown",
      "source": [
        "###What is the most common number of rooms in the houses sold?"
      ],
      "metadata": {
        "id": "wmcfOB8vRRL8"
      }
    },
    {
      "cell_type": "markdown",
      "source": [
        "##Data cleaning"
      ],
      "metadata": {
        "id": "kYME8ApmWrp_"
      }
    },
    {
      "cell_type": "code",
      "source": [
        "# df.shape\n",
        "# df_cleaned=df.dropna()    # Droping NaN value\n",
        "# df.shape\n",
        "#df_filled=df.fillna(0)    # Fill missing values(NaN) to 0(zero)\n",
        "df_dropped=df.drop(columns=['Address'])\n",
        "#print(df_dropped)\n",
        "df_dropped.shape\n",
        "df_cleaned.to_csv('New_melb_data.csv',index=False)\n",
        "#df_filled.to_excel('Newexcel_melb_data.xlsx',index=False)"
      ],
      "metadata": {
        "id": "yfvuBrYHWuce"
      },
      "execution_count": 59,
      "outputs": []
    },
    {
      "cell_type": "markdown",
      "source": [
        "##Decision Tree Regression"
      ],
      "metadata": {
        "id": "apCHrVekuNUv"
      }
    },
    {
      "cell_type": "code",
      "source": [
        "import pandas as pd\n",
        "melbourne_data_df = pd.read_csv('melb_data.csv')\n",
        "\n",
        "melbourne_data_df=melbourne_data_df.dropna(axis=0)\n",
        "\n",
        "features = ['Rooms', 'Bathroom', 'Bedroom2', 'Landsize', 'BuildingArea', 'YearBuilt']\n",
        "X = melbourne_data_df[features]\n",
        "y = melbourne_data_df['Price']\n",
        "\n",
        "from sklearn.tree import DecisionTreeRegressor\n",
        "melbourne_model = DecisionTreeRegressor(random_state=1)\n",
        "melbourne_model.fit(X, y)\n",
        "\n",
        "print(melbourne_model.predict(X.head()))      # Predicted value\n",
        "print(y.head())                             # To compare predicted value to actual value\n"
      ],
      "metadata": {
        "colab": {
          "base_uri": "https://localhost:8080/"
        },
        "id": "Zqm7qLAOuRvv",
        "outputId": "0093d352-3b10-4094-9b2f-027f92bb8133"
      },
      "execution_count": 78,
      "outputs": [
        {
          "output_type": "stream",
          "name": "stdout",
          "text": [
            "[1035000. 1465000. 1600000. 1876000. 1636000.]\n",
            "1    1035000.0\n",
            "2    1465000.0\n",
            "4    1600000.0\n",
            "6    1876000.0\n",
            "7    1636000.0\n",
            "Name: Price, dtype: float64\n"
          ]
        }
      ]
    },
    {
      "cell_type": "code",
      "source": [
        "import pandas as pd\n",
        "melbourne_data_df = pd.read_csv('melb_data.csv')\n",
        "\n",
        "melbourne_data_df=melbourne_data_df.dropna(axis=0)\n",
        "\n",
        "features = ['Rooms', 'Bathroom', 'Bedroom2', 'Landsize', 'BuildingArea', 'YearBuilt']\n",
        "X = melbourne_data_df[features]\n",
        "y = melbourne_data_df['Price']\n",
        "\n",
        "from sklearn.tree import DecisionTreeRegressor\n",
        "melbourne_model = DecisionTreeRegressor(random_state=1)\n",
        "melbourne_model.fit(X, y)\n",
        "predicted_home_prices = melbourne_model.predict(X)     # Overfitting\n",
        "\n",
        "from sklearn.metrics import mean_absolute_error\n",
        "mean_absolute_error(y, predicted_home_prices)"
      ],
      "metadata": {
        "colab": {
          "base_uri": "https://localhost:8080/"
        },
        "id": "ck1Kyw4awkeB",
        "outputId": "759c3529-71b9-4ddf-c878-ba4abae42cbe"
      },
      "execution_count": 79,
      "outputs": [
        {
          "output_type": "execute_result",
          "data": {
            "text/plain": [
              "3708.99763997569"
            ]
          },
          "metadata": {},
          "execution_count": 79
        }
      ]
    },
    {
      "cell_type": "code",
      "source": [
        "import pandas as pd\n",
        "melbourne_data_df = pd.read_csv('melb_data.csv')\n",
        "melbourne_data_df=melbourne_data_df.dropna(axis=0)\n",
        "features = ['Rooms', 'Bathroom', 'Bedroom2', 'Landsize', 'BuildingArea', 'YearBuilt']\n",
        "X = melbourne_data_df[features]\n",
        "y = melbourne_data_df['Price']\n",
        "\n",
        "from sklearn.model_selection import train_test_split\n",
        "train_X, val_X, train_y, val_y = train_test_split(X, y, random_state = 0)\n",
        "melbourne_model = DecisionTreeRegressor()\n",
        "melbourne_model.fit(train_X, train_y)\n",
        "\n",
        "from sklearn.metrics import mean_absolute_error\n",
        "val_predictions = melbourne_model.predict(val_X)\n",
        "print(mean_absolute_error(val_y, val_predictions))"
      ],
      "metadata": {
        "colab": {
          "base_uri": "https://localhost:8080/"
        },
        "id": "1wQO_giDzWKZ",
        "outputId": "3c3bfd80-829e-4e59-a8f4-3a9b761c74f8"
      },
      "execution_count": 83,
      "outputs": [
        {
          "output_type": "stream",
          "name": "stdout",
          "text": [
            "383703.3434473854\n"
          ]
        }
      ]
    },
    {
      "cell_type": "code",
      "source": [
        "import pandas as pd\n",
        "melbourne_data_df = pd.read_csv('melb_data.csv')\n",
        "melbourne_data_df=melbourne_data_df.dropna(axis=0)\n",
        "features = ['Rooms', 'Bathroom', 'Bedroom2', 'Landsize', 'BuildingArea', 'YearBuilt']\n",
        "X = melbourne_data_df[features]\n",
        "y = melbourne_data_df['Price']\n",
        "from sklearn.model_selection import train_test_split\n",
        "train_X, val_X, train_y, val_y = train_test_split(X, y, random_state = 0)\n",
        "\n",
        "from sklearn.ensemble import RandomForestRegressor\n",
        "from sklearn.metrics import mean_absolute_error\n",
        "\n",
        "forest_model = RandomForestRegressor(random_state=1)\n",
        "\n",
        "forest_model.fit(train_X, train_y)\n",
        "\n",
        "melb_preds = forest_model.predict(val_X)\n",
        "\n",
        "print(mean_absolute_error(val_y, melb_preds))"
      ],
      "metadata": {
        "colab": {
          "base_uri": "https://localhost:8080/"
        },
        "id": "dliTs9b-zuko",
        "outputId": "8e4645cb-2ee9-4718-f338-722d201287d5"
      },
      "execution_count": 86,
      "outputs": [
        {
          "output_type": "stream",
          "name": "stdout",
          "text": [
            "286271.8952237341\n"
          ]
        }
      ]
    },
    {
      "cell_type": "markdown",
      "source": [
        "#Bengaluru Housing"
      ],
      "metadata": {
        "id": "4v3mkaFr13xK"
      }
    },
    {
      "cell_type": "code",
      "source": [
        "import pandas as pd\n",
        "bdf=pd.read_csv('Bengaluru_housing_train.csv')\n",
        "\n",
        "#bdf.head()\n",
        "# bdf.columns\n",
        "#bdf.shape         # 1460 X 81\n",
        "#bengaluru_data_df=bdf.dropna(axis=0)\n",
        "#bengaluru_data_df.shape      # Each sample has missing value\n",
        "\n",
        "features = ['MSSubClass', 'YearBuilt', 'FullBath']\n",
        "\n",
        "X = bdf[features]\n",
        "y = bdf['SalePrice']\n",
        "\n",
        "from sklearn.ensemble import RandomForestRegressor\n",
        "\n",
        "\n",
        "forest_model = RandomForestRegressor(random_state=1)\n",
        "\n",
        "forest_model.fit(X,y)\n",
        "\n",
        "test_bdf=pd.read_csv('Bengaluru_housing_test.csv')\n",
        "test_features = ['MSSubClass', 'YearBuilt', 'FullBath']\n",
        "\n",
        "test_X = test_bdf[test_features]\n",
        "\n",
        "\n",
        "\n",
        "bengaluru_preds = forest_model.predict(test_X)\n",
        "print(bengaluru_preds)\n",
        "\n"
      ],
      "metadata": {
        "colab": {
          "base_uri": "https://localhost:8080/"
        },
        "id": "VKfo696V17Qi",
        "outputId": "f8107d36-ba10-42e4-ba08-5bc3829ffbf9"
      },
      "execution_count": 100,
      "outputs": [
        {
          "output_type": "stream",
          "name": "stdout",
          "text": [
            "[133180.06204665 135956.33837207 215006.17281795 ... 160492.20158134\n",
            " 155068.         227372.02266923]\n"
          ]
        }
      ]
    },
    {
      "cell_type": "code",
      "source": [],
      "metadata": {
        "id": "a411arMJRYNu"
      },
      "execution_count": null,
      "outputs": []
    },
    {
      "cell_type": "code",
      "source": [],
      "metadata": {
        "id": "PYnrDUxII8ln"
      },
      "execution_count": null,
      "outputs": []
    }
  ]
}