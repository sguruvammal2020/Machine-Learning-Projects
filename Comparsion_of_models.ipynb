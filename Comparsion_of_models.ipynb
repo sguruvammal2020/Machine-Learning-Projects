{
  "nbformat": 4,
  "nbformat_minor": 0,
  "metadata": {
    "colab": {
      "provenance": []
    },
    "kernelspec": {
      "name": "python3",
      "display_name": "Python 3"
    },
    "language_info": {
      "name": "python"
    }
  },
  "cells": [
    {
      "cell_type": "code",
      "execution_count": null,
      "metadata": {
        "id": "miejj01NLJUN"
      },
      "outputs": [],
      "source": []
    },
    {
      "cell_type": "markdown",
      "source": [
        "## Decision Tree Regressor"
      ],
      "metadata": {
        "id": "T8cVD-MfMy7l"
      }
    },
    {
      "cell_type": "code",
      "source": [
        "import pandas as pd\n",
        "bengaluru_data_df = pd.read_csv('Bengaluru_housing_train.csv')\n",
        "#bengaluru_data_df=bengaluru_data_df.dropna(axis=0)\n",
        "#features = ['MSSubClass','LotFrontage','LotArea','OverallQual','OverallCond','YearRemodAdd','MasVnrArea','BsmtFinSF1','BsmtFinSF2','BsmtUnfSF','TotalBsmtSF','1stFlrSF','2ndFlrSF','LowQualFinSF','GrLivArea','YearBuilt', 'FullBath']\n",
        "features = ['MSSubClass', 'YearBuilt', 'FullBath']\n",
        "X = bengaluru_data_df[features]\n",
        "y = bengaluru_data_df['SalePrice']\n",
        "\n",
        "from sklearn.model_selection import train_test_split\n",
        "train_X, val_X, train_y, val_y = train_test_split(X, y, random_state = 0)\n",
        "\n",
        "from sklearn.tree import DecisionTreeRegressor\n",
        "bengaluru_model = DecisionTreeRegressor()\n",
        "bengaluru_model.fit(train_X, train_y)\n",
        "\n",
        "from sklearn.metrics import mean_absolute_error\n",
        "val_predictions = bengaluru_model.predict(val_X)\n",
        "print(mean_absolute_error(val_y, val_predictions))\n"
      ],
      "metadata": {
        "colab": {
          "base_uri": "https://localhost:8080/"
        },
        "id": "5NDRhVlXM8T_",
        "outputId": "c497d507-209f-4867-8049-44f0d9ae0766"
      },
      "execution_count": 10,
      "outputs": [
        {
          "output_type": "stream",
          "name": "stdout",
          "text": [
            "39289.73400177717\n"
          ]
        }
      ]
    },
    {
      "cell_type": "markdown",
      "source": [
        "## Random Forest Regressor"
      ],
      "metadata": {
        "id": "I8CzmAudLi02"
      }
    },
    {
      "cell_type": "markdown",
      "source": [],
      "metadata": {
        "id": "Wjkn5MbkLgkX"
      }
    },
    {
      "cell_type": "code",
      "source": [
        "import pandas as pd\n",
        "bdf=pd.read_csv('Bengaluru_housing_train.csv')\n",
        "\n",
        "features = ['MSSubClass', 'YearBuilt', 'FullBath']\n",
        "\n",
        "X = bdf[features]\n",
        "y = bdf['SalePrice']\n",
        "\n",
        "from sklearn.model_selection import train_test_split\n",
        "train_X, val_X, train_y, val_y = train_test_split(X, y, random_state = 0)\n",
        "\n",
        "from sklearn.ensemble import RandomForestRegressor\n",
        "\n",
        "forest_model = RandomForestRegressor(random_state=1)\n",
        "\n",
        "forest_model.fit(train_X,train_y)\n",
        "\n",
        "bengaluru_preds = forest_model.predict(val_X)\n",
        "\n",
        "\n",
        "\n",
        "from sklearn.metrics import mean_absolute_error\n",
        "mean_absolute_error(val_y, bengaluru_preds)\n",
        "\n",
        "\n"
      ],
      "metadata": {
        "colab": {
          "base_uri": "https://localhost:8080/"
        },
        "id": "fH7pWHlGLg1t",
        "outputId": "ca07da21-19e4-4ff5-b05b-8f8098dd7acc"
      },
      "execution_count": 11,
      "outputs": [
        {
          "output_type": "execute_result",
          "data": {
            "text/plain": [
              "36998.61965411271"
            ]
          },
          "metadata": {},
          "execution_count": 11
        }
      ]
    },
    {
      "cell_type": "markdown",
      "source": [
        "##ANN"
      ],
      "metadata": {
        "id": "LYT8nBqpWhXR"
      }
    },
    {
      "cell_type": "code",
      "source": [
        "import pandas as pd\n",
        "from sklearn.model_selection import train_test_split\n",
        "\n",
        "data = pd.read_csv('Bengaluru_housing_train.csv')\n",
        "\n",
        "#data = data.dropna()\n",
        "\n",
        "features = ['MSSubClass', 'YearBuilt', 'FullBath']\n",
        "\n",
        "X = data[features]\n",
        "y = data['SalePrice']\n",
        "\n",
        "X_train, X_test, y_train, y_test = train_test_split(X, y, test_size=0.2, random_state=42)\n",
        "\n",
        "from sklearn.preprocessing import StandardScaler\n",
        "\n",
        "scaler = StandardScaler()\n",
        "X_train = scaler.fit_transform(X_train)\n",
        "X_test = scaler.transform(X_test)\n",
        "\n",
        "import tensorflow as tf\n",
        "from tensorflow.keras import layers, models\n",
        "\n",
        "# Build the ANN model\n",
        "ann_model = models.Sequential([\n",
        "    layers.Dense(64, activation='relu', input_shape=(X_train.shape[1],)),\n",
        "    layers.Dense(1)\n",
        "])\n",
        "\n",
        "# Compile the model\n",
        "ann_model.compile(optimizer='adam', loss='mean_absolute_error')\n",
        "\n",
        "# Train the model\n",
        "ann_history = ann_model.fit(X_train, y_train, epochs=50, validation_split=0.2)\n",
        "\n",
        "from sklearn.metrics import mean_absolute_error\n",
        "\n",
        "# Predict and evaluate ANN\n",
        "ann_predictions = ann_model.predict(X_test)\n",
        "ann_mae = mean_absolute_error(y_test, ann_predictions)\n",
        "print(f'ANN MAE: {ann_mae}')"
      ],
      "metadata": {
        "colab": {
          "base_uri": "https://localhost:8080/"
        },
        "id": "_Xn3RakUWgVC",
        "outputId": "f06cc732-c8d9-4939-fba6-79dd15e23bf3"
      },
      "execution_count": 13,
      "outputs": [
        {
          "output_type": "stream",
          "name": "stdout",
          "text": [
            "Epoch 1/50\n",
            "30/30 [==============================] - 1s 7ms/step - loss: 181526.2344 - val_loss: 181101.6406\n",
            "Epoch 2/50\n",
            "30/30 [==============================] - 0s 3ms/step - loss: 181525.6562 - val_loss: 181101.0312\n",
            "Epoch 3/50\n",
            "30/30 [==============================] - 0s 4ms/step - loss: 181524.9844 - val_loss: 181100.3281\n",
            "Epoch 4/50\n",
            "30/30 [==============================] - 0s 3ms/step - loss: 181524.1875 - val_loss: 181099.4375\n",
            "Epoch 5/50\n",
            "30/30 [==============================] - 0s 3ms/step - loss: 181523.2188 - val_loss: 181098.4062\n",
            "Epoch 6/50\n",
            "30/30 [==============================] - 0s 3ms/step - loss: 181522.0625 - val_loss: 181097.1719\n",
            "Epoch 7/50\n",
            "30/30 [==============================] - 0s 3ms/step - loss: 181520.6719 - val_loss: 181095.6719\n",
            "Epoch 8/50\n",
            "30/30 [==============================] - 0s 3ms/step - loss: 181519.0781 - val_loss: 181093.9688\n",
            "Epoch 9/50\n",
            "30/30 [==============================] - 0s 3ms/step - loss: 181517.1562 - val_loss: 181091.9844\n",
            "Epoch 10/50\n",
            "30/30 [==============================] - 0s 3ms/step - loss: 181515.0000 - val_loss: 181089.6875\n",
            "Epoch 11/50\n",
            "30/30 [==============================] - 0s 3ms/step - loss: 181512.5625 - val_loss: 181087.1406\n",
            "Epoch 12/50\n",
            "30/30 [==============================] - 0s 3ms/step - loss: 181509.8281 - val_loss: 181084.2500\n",
            "Epoch 13/50\n",
            "30/30 [==============================] - 0s 3ms/step - loss: 181506.7344 - val_loss: 181081.0938\n",
            "Epoch 14/50\n",
            "30/30 [==============================] - 0s 4ms/step - loss: 181503.3906 - val_loss: 181077.6094\n",
            "Epoch 15/50\n",
            "30/30 [==============================] - 0s 3ms/step - loss: 181499.6875 - val_loss: 181073.8438\n",
            "Epoch 16/50\n",
            "30/30 [==============================] - 0s 3ms/step - loss: 181495.7500 - val_loss: 181069.7812\n",
            "Epoch 17/50\n",
            "30/30 [==============================] - 0s 3ms/step - loss: 181491.4375 - val_loss: 181065.4375\n",
            "Epoch 18/50\n",
            "30/30 [==============================] - 0s 3ms/step - loss: 181486.8750 - val_loss: 181060.7656\n",
            "Epoch 19/50\n",
            "30/30 [==============================] - 0s 3ms/step - loss: 181482.0312 - val_loss: 181055.8594\n",
            "Epoch 20/50\n",
            "30/30 [==============================] - 0s 3ms/step - loss: 181476.8594 - val_loss: 181050.7031\n",
            "Epoch 21/50\n",
            "30/30 [==============================] - 0s 3ms/step - loss: 181471.5000 - val_loss: 181045.2344\n",
            "Epoch 22/50\n",
            "30/30 [==============================] - 0s 3ms/step - loss: 181465.8125 - val_loss: 181039.5781\n",
            "Epoch 23/50\n",
            "30/30 [==============================] - 0s 3ms/step - loss: 181459.9375 - val_loss: 181033.5938\n",
            "Epoch 24/50\n",
            "30/30 [==============================] - 0s 3ms/step - loss: 181453.7188 - val_loss: 181027.3906\n",
            "Epoch 25/50\n",
            "30/30 [==============================] - 0s 3ms/step - loss: 181447.2344 - val_loss: 181020.8438\n",
            "Epoch 26/50\n",
            "30/30 [==============================] - 0s 3ms/step - loss: 181440.4688 - val_loss: 181014.0312\n",
            "Epoch 27/50\n",
            "30/30 [==============================] - 0s 3ms/step - loss: 181433.3750 - val_loss: 181006.9531\n",
            "Epoch 28/50\n",
            "30/30 [==============================] - 0s 3ms/step - loss: 181426.0625 - val_loss: 180999.5938\n",
            "Epoch 29/50\n",
            "30/30 [==============================] - 0s 3ms/step - loss: 181418.4219 - val_loss: 180992.0000\n",
            "Epoch 30/50\n",
            "30/30 [==============================] - 0s 3ms/step - loss: 181410.5938 - val_loss: 180984.1250\n",
            "Epoch 31/50\n",
            "30/30 [==============================] - 0s 3ms/step - loss: 181402.4531 - val_loss: 180975.9844\n",
            "Epoch 32/50\n",
            "30/30 [==============================] - 0s 3ms/step - loss: 181394.0938 - val_loss: 180967.6250\n",
            "Epoch 33/50\n",
            "30/30 [==============================] - 0s 3ms/step - loss: 181385.5312 - val_loss: 180959.0625\n",
            "Epoch 34/50\n",
            "30/30 [==============================] - 0s 3ms/step - loss: 181376.6406 - val_loss: 180950.2812\n",
            "Epoch 35/50\n",
            "30/30 [==============================] - 0s 4ms/step - loss: 181367.5469 - val_loss: 180941.2969\n",
            "Epoch 36/50\n",
            "30/30 [==============================] - 0s 3ms/step - loss: 181358.3594 - val_loss: 180932.0469\n",
            "Epoch 37/50\n",
            "30/30 [==============================] - 0s 4ms/step - loss: 181348.7969 - val_loss: 180922.5625\n",
            "Epoch 38/50\n",
            "30/30 [==============================] - 0s 3ms/step - loss: 181339.0469 - val_loss: 180912.8906\n",
            "Epoch 39/50\n",
            "30/30 [==============================] - 0s 4ms/step - loss: 181329.1250 - val_loss: 180903.0156\n",
            "Epoch 40/50\n",
            "30/30 [==============================] - 0s 4ms/step - loss: 181318.9531 - val_loss: 180892.8906\n",
            "Epoch 41/50\n",
            "30/30 [==============================] - 0s 4ms/step - loss: 181308.5781 - val_loss: 180882.5312\n",
            "Epoch 42/50\n",
            "30/30 [==============================] - 0s 4ms/step - loss: 181297.9219 - val_loss: 180871.9688\n",
            "Epoch 43/50\n",
            "30/30 [==============================] - 0s 4ms/step - loss: 181287.0781 - val_loss: 180861.2031\n",
            "Epoch 44/50\n",
            "30/30 [==============================] - 0s 4ms/step - loss: 181276.0781 - val_loss: 180850.2031\n",
            "Epoch 45/50\n",
            "30/30 [==============================] - 0s 5ms/step - loss: 181264.7188 - val_loss: 180839.1250\n",
            "Epoch 46/50\n",
            "30/30 [==============================] - 0s 4ms/step - loss: 181253.2969 - val_loss: 180827.7031\n",
            "Epoch 47/50\n",
            "30/30 [==============================] - 0s 4ms/step - loss: 181241.6250 - val_loss: 180816.0781\n",
            "Epoch 48/50\n",
            "30/30 [==============================] - 0s 4ms/step - loss: 181229.6719 - val_loss: 180804.2969\n",
            "Epoch 49/50\n",
            "30/30 [==============================] - 0s 4ms/step - loss: 181217.5625 - val_loss: 180792.2812\n",
            "Epoch 50/50\n",
            "30/30 [==============================] - 0s 5ms/step - loss: 181205.3125 - val_loss: 180780.0469\n",
            "10/10 [==============================] - 0s 2ms/step\n",
            "ANN MAE: 178516.96862735486\n"
          ]
        }
      ]
    },
    {
      "cell_type": "code",
      "source": [],
      "metadata": {
        "id": "MoOy6hUCEAYe"
      },
      "execution_count": null,
      "outputs": []
    },
    {
      "cell_type": "markdown",
      "source": [
        "## DNN"
      ],
      "metadata": {
        "id": "oAvfQ5JPEBXu"
      }
    },
    {
      "cell_type": "code",
      "source": [
        "import pandas as pd\n",
        "from sklearn.model_selection import train_test_split\n",
        "\n",
        "data = pd.read_csv('Bengaluru_housing_train.csv')\n",
        "\n",
        "#data = data.dropna()\n",
        "\n",
        "features = ['MSSubClass', 'YearBuilt', 'FullBath']\n",
        "\n",
        "X = data[features]\n",
        "y = data['SalePrice']\n",
        "\n",
        "X_train, X_test, y_train, y_test = train_test_split(X, y, test_size=0.2, random_state=42)\n",
        "\n",
        "from sklearn.preprocessing import StandardScaler\n",
        "\n",
        "scaler = StandardScaler()\n",
        "X_train = scaler.fit_transform(X_train)\n",
        "X_test = scaler.transform(X_test)\n",
        "\n",
        "import tensorflow as tf\n",
        "from tensorflow.keras import layers, models\n",
        "\n",
        "# Build the DNN model\n",
        "dnn_model = models.Sequential([\n",
        "    layers.Dense(128, activation='relu', input_shape=(X_train.shape[1],)),\n",
        "    layers.Dropout(0.2),\n",
        "    layers.Dense(64, activation='relu'),\n",
        "    layers.Dropout(0.2),\n",
        "    layers.Dense(32, activation='relu'),\n",
        "    layers.Dense(1)\n",
        "])\n",
        "\n",
        "# Compile the model\n",
        "dnn_model.compile(optimizer='adam', loss='mean_absolute_error')\n",
        "\n",
        "# Train the model\n",
        "dnn_history = dnn_model.fit(X_train, y_train, epochs=50, validation_split=0.2)\n",
        "\n",
        "from sklearn.metrics import mean_absolute_error\n",
        "\n",
        "# Predict and evaluate DNN\n",
        "dnn_predictions = dnn_model.predict(X_test)\n",
        "dnn_mae = mean_absolute_error(y_test, dnn_predictions)\n",
        "print(f'DNN MAE: {dnn_mae}')"
      ],
      "metadata": {
        "colab": {
          "base_uri": "https://localhost:8080/"
        },
        "id": "qxaPGUDiEDkE",
        "outputId": "dfb856b6-dbb7-4423-ed4a-e64de4ca8e0e"
      },
      "execution_count": 14,
      "outputs": [
        {
          "output_type": "stream",
          "name": "stdout",
          "text": [
            "Epoch 1/50\n",
            "30/30 [==============================] - 2s 13ms/step - loss: 181525.3281 - val_loss: 181098.6719\n",
            "Epoch 2/50\n",
            "30/30 [==============================] - 0s 6ms/step - loss: 181516.1250 - val_loss: 181079.2188\n",
            "Epoch 3/50\n",
            "30/30 [==============================] - 0s 5ms/step - loss: 181472.9062 - val_loss: 180999.0156\n",
            "Epoch 4/50\n",
            "30/30 [==============================] - 0s 4ms/step - loss: 181324.8281 - val_loss: 180754.6719\n",
            "Epoch 5/50\n",
            "30/30 [==============================] - 0s 4ms/step - loss: 180933.9219 - val_loss: 180169.7969\n",
            "Epoch 6/50\n",
            "30/30 [==============================] - 0s 3ms/step - loss: 180073.1406 - val_loss: 178979.7500\n",
            "Epoch 7/50\n",
            "30/30 [==============================] - 0s 4ms/step - loss: 178423.5781 - val_loss: 176802.5312\n",
            "Epoch 8/50\n",
            "30/30 [==============================] - 0s 4ms/step - loss: 175547.2188 - val_loss: 173161.6406\n",
            "Epoch 9/50\n",
            "30/30 [==============================] - 0s 4ms/step - loss: 170958.9844 - val_loss: 167501.1094\n",
            "Epoch 10/50\n",
            "30/30 [==============================] - 0s 4ms/step - loss: 163911.8750 - val_loss: 159225.7031\n",
            "Epoch 11/50\n",
            "30/30 [==============================] - 0s 4ms/step - loss: 154001.6094 - val_loss: 147632.9531\n",
            "Epoch 12/50\n",
            "30/30 [==============================] - 0s 4ms/step - loss: 140437.5625 - val_loss: 132026.5469\n",
            "Epoch 13/50\n",
            "30/30 [==============================] - 0s 4ms/step - loss: 122743.4453 - val_loss: 112017.7500\n",
            "Epoch 14/50\n",
            "30/30 [==============================] - 0s 3ms/step - loss: 101718.9453 - val_loss: 88837.8047\n",
            "Epoch 15/50\n",
            "30/30 [==============================] - 0s 3ms/step - loss: 80606.2266 - val_loss: 67962.4219\n",
            "Epoch 16/50\n",
            "30/30 [==============================] - 0s 3ms/step - loss: 63104.1328 - val_loss: 52669.2852\n",
            "Epoch 17/50\n",
            "30/30 [==============================] - 0s 4ms/step - loss: 51656.3086 - val_loss: 45869.5352\n",
            "Epoch 18/50\n",
            "30/30 [==============================] - 0s 4ms/step - loss: 48376.0469 - val_loss: 44772.6367\n",
            "Epoch 19/50\n",
            "30/30 [==============================] - 0s 4ms/step - loss: 46059.4062 - val_loss: 44638.7148\n",
            "Epoch 20/50\n",
            "30/30 [==============================] - 0s 4ms/step - loss: 45323.6406 - val_loss: 44601.3320\n",
            "Epoch 21/50\n",
            "30/30 [==============================] - 0s 4ms/step - loss: 45852.8398 - val_loss: 44447.9258\n",
            "Epoch 22/50\n",
            "30/30 [==============================] - 0s 4ms/step - loss: 44784.7188 - val_loss: 44144.0391\n",
            "Epoch 23/50\n",
            "30/30 [==============================] - 0s 3ms/step - loss: 44698.2539 - val_loss: 44028.8906\n",
            "Epoch 24/50\n",
            "30/30 [==============================] - 0s 3ms/step - loss: 44589.6250 - val_loss: 43923.3008\n",
            "Epoch 25/50\n",
            "30/30 [==============================] - 0s 4ms/step - loss: 43966.0625 - val_loss: 43830.3594\n",
            "Epoch 26/50\n",
            "30/30 [==============================] - 0s 3ms/step - loss: 44072.7109 - val_loss: 43664.4023\n",
            "Epoch 27/50\n",
            "30/30 [==============================] - 0s 3ms/step - loss: 43738.8164 - val_loss: 43544.2891\n",
            "Epoch 28/50\n",
            "30/30 [==============================] - 0s 3ms/step - loss: 42798.7734 - val_loss: 43289.1328\n",
            "Epoch 29/50\n",
            "30/30 [==============================] - 0s 4ms/step - loss: 43253.8945 - val_loss: 43038.5039\n",
            "Epoch 30/50\n",
            "30/30 [==============================] - 0s 4ms/step - loss: 43015.6523 - val_loss: 43097.6758\n",
            "Epoch 31/50\n",
            "30/30 [==============================] - 0s 11ms/step - loss: 42211.5273 - val_loss: 42950.6523\n",
            "Epoch 32/50\n",
            "30/30 [==============================] - 0s 6ms/step - loss: 43302.8477 - val_loss: 42515.3516\n",
            "Epoch 33/50\n",
            "30/30 [==============================] - 0s 3ms/step - loss: 42926.8789 - val_loss: 42296.7422\n",
            "Epoch 34/50\n",
            "30/30 [==============================] - 0s 3ms/step - loss: 42234.2109 - val_loss: 42175.5352\n",
            "Epoch 35/50\n",
            "30/30 [==============================] - 0s 4ms/step - loss: 42521.3438 - val_loss: 42147.8750\n",
            "Epoch 36/50\n",
            "30/30 [==============================] - 0s 4ms/step - loss: 42063.6836 - val_loss: 42003.8477\n",
            "Epoch 37/50\n",
            "30/30 [==============================] - 0s 14ms/step - loss: 41501.2695 - val_loss: 41783.2891\n",
            "Epoch 38/50\n",
            "30/30 [==============================] - 0s 3ms/step - loss: 42008.2617 - val_loss: 41582.6641\n",
            "Epoch 39/50\n",
            "30/30 [==============================] - 0s 3ms/step - loss: 42202.5977 - val_loss: 41767.3750\n",
            "Epoch 40/50\n",
            "30/30 [==============================] - 0s 3ms/step - loss: 42520.9062 - val_loss: 41535.7383\n",
            "Epoch 41/50\n",
            "30/30 [==============================] - 0s 3ms/step - loss: 41148.7578 - val_loss: 41278.5195\n",
            "Epoch 42/50\n",
            "30/30 [==============================] - 0s 3ms/step - loss: 40692.8125 - val_loss: 41036.3242\n",
            "Epoch 43/50\n",
            "30/30 [==============================] - 0s 4ms/step - loss: 41388.1445 - val_loss: 41212.4844\n",
            "Epoch 44/50\n",
            "30/30 [==============================] - 0s 4ms/step - loss: 41483.5000 - val_loss: 41436.1094\n",
            "Epoch 45/50\n",
            "30/30 [==============================] - 0s 3ms/step - loss: 42106.5859 - val_loss: 41091.8047\n",
            "Epoch 46/50\n",
            "30/30 [==============================] - 0s 3ms/step - loss: 41406.6133 - val_loss: 40738.3242\n",
            "Epoch 47/50\n",
            "30/30 [==============================] - 0s 3ms/step - loss: 41233.3906 - val_loss: 40667.8359\n",
            "Epoch 48/50\n",
            "30/30 [==============================] - 0s 3ms/step - loss: 41007.7812 - val_loss: 40618.2344\n",
            "Epoch 49/50\n",
            "30/30 [==============================] - 0s 3ms/step - loss: 40394.9023 - val_loss: 40793.3242\n",
            "Epoch 50/50\n",
            "30/30 [==============================] - 0s 3ms/step - loss: 40904.2422 - val_loss: 40529.0039\n",
            "10/10 [==============================] - 0s 2ms/step\n",
            "DNN MAE: 40024.7258401113\n"
          ]
        }
      ]
    },
    {
      "cell_type": "markdown",
      "source": [],
      "metadata": {
        "id": "xpkzuztpMbVO"
      }
    },
    {
      "cell_type": "markdown",
      "source": [],
      "metadata": {
        "id": "_ehjnUF9MxMI"
      }
    }
  ]
}